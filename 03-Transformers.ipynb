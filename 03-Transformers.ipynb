{
 "cells": [
  {
   "cell_type": "code",
   "execution_count": 36,
   "id": "abd3a712-8a9b-4845-8f07-5d74e0609e70",
   "metadata": {},
   "outputs": [],
   "source": [
    "import matplotlib.pyplot as plt\n",
    "import numpy as np"
   ]
  },
  {
   "cell_type": "markdown",
   "id": "e10adb3b-1e21-40d8-a0c5-4ff0862714fd",
   "metadata": {},
   "source": [
    "# Session 3 – Transformers and Model Architectures\n",
    "\n",
    "> The emergence of Transformers dramatically changed the NLP landscape. While RNNs and LSTMs are still valuable for certain scenarios, Transformers excel in most tasks due to their powerful self-attention mechanism and ability to scale to massive datasets. Mastering both architectures gives you a well-rounded understanding of modern NLP.\n",
    "\n",
    "In the previous sessions, we explored **RNNs and LSTMs**, which have been foundational for sequential tasks. Now, we transition to **Transformers**—the architecture that has revolutionized NLP in recent years. \n",
    "\n",
    "**Session Description**:  \n",
    "This session covers the **fundamental concepts** behind Transformer architectures, including **self-attention**, **encoders/decoders**, and **their advantages over RNNs**. We’ll also look at **positional encodings**, and differences among **encoder-based (BERT)**, **decoder-based (GPT)**, and **sequence-to-sequence models (T5)**.\n"
   ]
  },
  {
   "cell_type": "markdown",
   "id": "11e6c36b-d697-4bf4-a559-ab1032b1aca4",
   "metadata": {},
   "source": [
    "## Table of Contents\n",
    "\n",
    "1. [Introduction: Why Move Beyond RNNs?](#introduction)\n",
    "1. [Transformer Basics](#transformer-basics)\n",
    "   - [Self-Attention](#self-attention)\n",
    "   - [Multi-Head Attention](#multi-head-attention)\n",
    "   - [Positional Encoding](#positional-encoding)\n",
    "1. [High-Level Transformer Architecture](#transformer-architecture)\n",
    "   - [Encoder, Decoder, & Seq2Seq](#encoder-decoder-seq2seq)\n",
    "   - [Example: BERT vs. GPT vs. T5](#bert-gpt-t5)\n",
    "1. [Minimal Transformer Implementation in PyTorch](#minimal-transformer)\n",
    "   - [Positional Encoding from Scratch](#pos-enc-scratch)\n",
    "   - [Building a Simple Transformer Block](#simple-transformer-block)\n",
    "   - [Visualizing Attention Weights](#visualizing-attention)\n",
    "1. [(Optional) Brief Notes on Data Preprocessing](#brief-preprocessing)\n",
    "1. [(Optional) Training a Transformer](#training-transformer)\n",
    "1. [Conclusion](#conclusion)\n",
    "\n",
    "Each major concept includes an **Exercise** to help reinforce your understanding. Let’s dive in!"
   ]
  },
  {
   "cell_type": "markdown",
   "id": "9d935f30-bd9c-44ab-9ef1-9daf0cde15c2",
   "metadata": {},
   "source": [
    "\n",
    "## <a id=\"introduction\"></a>1. Introduction: Why Move Beyond RNNs?\n",
    "\n",
    "**RNNs** (and their variants, LSTMs, GRUs) were once the state-of-the-art for many NLP tasks. However, they come with **limitations**:\n",
    "\n",
    "1. **Sequential Computation**: RNNs process tokens one by one, which can be slow for long sequences.  \n",
    "2. **Long-Term Dependencies**: Even with gating (LSTMs, GRUs), very long sequences can still cause issues (vanishing gradients).  \n",
    "3. **Parallelization Difficulty**: Because each step depends on the previous hidden state, parallelizing training or inference is more challenging.\n",
    "\n",
    "**Transformers** address these issues by using **attention mechanisms**—particularly **self-attention**—to process tokens in **parallel** and model long-range dependencies more effectively.\n",
    "\n",
    "### Exercise 1: Recap RNN Limitations\n",
    "**Goal**:  \n",
    "Write a short paragraph summarizing the main challenges you faced (or foresee) when using RNNs for large, complex sequences. How might a parallelizable architecture help?\n",
    "*(No code needed—just a conceptual reflection.)*\n"
   ]
  },
  {
   "cell_type": "markdown",
   "id": "6f3d1576-773a-4673-bdbd-edb13d1878cd",
   "metadata": {},
   "source": [
    "## <a id=\"transformer-basics\"></a>2. Transformer Basics\n",
    "\n",
    "The **Transformer** architecture, introduced in the paper “Attention Is All You Need” (Vaswani et al., 2017), replaces recurrence with **self-attention** as its core building block. \n",
    "\n",
    "### <a id=\"self-attention\"></a>Self-Attention\n",
    "\n",
    "**Key Idea**: Each token in the input attends to every other token, learning contextual relationships without sequential operations.\n",
    "\n",
    "1. **Queries (Q)**, **Keys (K)**, and **Values (V)** are computed from each input token.  \n",
    "2. The **attention score** for a given token is the similarity (e.g., dot product) between its **query** and other tokens’ **keys**.  \n",
    "3. Weighted sums of **values** produce the self-attended representation.\n",
    "\n",
    "Formally, one head of attention is:\n",
    "$$\n",
    "\\text{Attention}(Q, K, V) = \\text{softmax}\\left(\\frac{QK^\\top}{\\sqrt{d_k}}\\right)V\n",
    "$$"
   ]
  },
  {
   "cell_type": "markdown",
   "id": "f73ba4aa-c1d7-4105-a36f-43d82bf18689",
   "metadata": {},
   "source": [
    "### <a id=\"multi-head-attention\"></a>Multi-Head Attention\n",
    "\n",
    "Instead of using a single attention function, **multi-head attention** runs several in parallel:\n",
    "$$\n",
    "\\text{MultiHead}(Q, K, V) = \\text{Concat}(\\text{head}_1, ..., \\text{head}_h)W^O\n",
    "$$\n",
    "Each head captures different aspects of pairwise relationships (e.g., syntactic vs. semantic dependencies).\n"
   ]
  },
  {
   "cell_type": "markdown",
   "id": "ad792af6-cb87-4902-8af0-6ca19c5348df",
   "metadata": {},
   "source": [
    "### <a id=\"positional-encoding\"></a>Positional Encoding\n",
    "\n",
    "Because self-attention does **not** inherently encode sequence order (unlike RNNs), Transformers use **positional encodings** to inject sequence position information. A common approach is **sinusoidal encoding**:\n",
    "$$\n",
    "PE_{(pos,2i)} = \\sin\\left(\\frac{pos}{10000^{2i/d_{\\text{model}}}}\\right), \\quad\n",
    "PE_{(pos,2i+1)} = \\cos\\left(\\frac{pos}{10000^{2i/d_{\\text{model}}}}\\right)\n",
    "$$\n",
    "This allows the model to learn both relative and absolute positions in the sequence.\n"
   ]
  },
  {
   "cell_type": "markdown",
   "id": "f0e7ddbb-5236-4427-810f-35dabe4eb63b",
   "metadata": {},
   "source": [
    "### Exercise 2: Calculate Self-Attention by Hand\n",
    "**Goal**:  \n",
    "1. Take a small sequence of 3 tokens with embedding size 2. Create random Q, K, V (e.g., by hand or with small random numbers).  \n",
    "2. Manually compute the attention scores and output.  \n",
    "3. Compare with a PyTorch snippet that does the same operation.  \n",
    "\n",
    "*(Focus on the concept—this is to solidify how queries, keys, and values interact.)*"
   ]
  },
  {
   "cell_type": "markdown",
   "id": "df5547ff-9af0-45e6-9fbe-655da8cfeafb",
   "metadata": {},
   "source": [
    "## <a id=\"transformer-architecture\"></a>3. High-Level Transformer Architecture\n",
    "\n",
    "A typical **Transformer** stack includes:\n",
    "1. **Embedding** + **Positional Encoding** (for each token in the input).\n",
    "2. **Encoder**: multiple layers of multi-head self-attention + feedforward sub-layers.\n",
    "3. **Decoder**: similarly stacked, but it attends to the encoder’s outputs in addition to self-attending to its own inputs.\n"
   ]
  },
  {
   "cell_type": "markdown",
   "id": "1da24d38-cb7c-434b-9935-5606de72d975",
   "metadata": {},
   "source": [
    "### <a id=\"encoder-decoder-seq2seq\"></a>Encoder, Decoder, & Seq2Seq\n",
    "\n",
    "- **Encoder-only** (like **BERT**): Great for classification, sentence embedding, etc.  \n",
    "- **Decoder-only** (like **GPT**): Autoregressive generation, next-token prediction.  \n",
    "- **Encoder-Decoder** (like **T5**, **BART**): Sequence-to-sequence tasks (translation, summarization).\n",
    "\n",
    "**Why is this powerful?**  \n",
    "- The entire sequence can be processed in **parallel** within each attention block.  \n",
    "- Long-distance dependencies can be learned more easily via attention.\n"
   ]
  },
  {
   "cell_type": "markdown",
   "id": "4d8b1377-9a4f-45b9-b4d4-cf1fbdb6bec0",
   "metadata": {},
   "source": [
    "### <a id=\"bert-gpt-t5\"></a>Example: BERT vs. GPT vs. T5\n",
    "\n",
    "1. **BERT (Encoder-based)**:\n",
    "   - Uses **masked language modeling** and **next-sentence prediction** pretraining tasks.\n",
    "   - Great for classification or token-level tasks (NER, QA).\n",
    "2. **GPT (Decoder-based)**:\n",
    "   - Uses **causal (autoregressive) attention** to predict next token.\n",
    "   - Great for text generation.\n",
    "3. **T5 (Encoder-Decoder)**:\n",
    "   - “Text-to-text” framework: everything is cast as a text input → text output problem (translation, summarization, etc.).\n",
    "   - The encoder reads the input, the decoder generates the output.\n"
   ]
  },
  {
   "cell_type": "markdown",
   "id": "065e433c-4037-4370-a033-5dea8f72cbe7",
   "metadata": {},
   "source": [
    "### Exercise 3: Compare Model Families\n",
    "**Goal**:  \n",
    "- Write 1–2 paragraphs explaining a real-world use case for each model class (encoder-only, decoder-only, seq2seq).  \n",
    "- Which tasks do you think an encoder-decoder would excel at, and why?"
   ]
  },
  {
   "cell_type": "markdown",
   "id": "7f345164-2311-4b34-a0d8-0c3d28790277",
   "metadata": {},
   "source": [
    "## <a id=\"minimal-transformer\"></a>4. Minimal Transformer Implementation in PyTorch\n",
    "\n",
    "Let’s build **from scratch** a simple Transformer block. We won’t train a full large model here, but we’ll cover essential code for:\n",
    "\n",
    "1. **Positional Encoding**  \n",
    "2. **Multi-Head Self-Attention**  \n",
    "3. **Feed-Forward Network (FFN)**  \n",
    "4. **Putting it together**  \n",
    "\n",
    "*(Note: PyTorch also provides `nn.Transformer` and related layers, but it’s instructive to implement a simplified version for clarity.)*\n"
   ]
  },
  {
   "cell_type": "markdown",
   "id": "b052645b-d7f8-4c6f-9933-5e6227362d1d",
   "metadata": {},
   "source": [
    "### <a id=\"pos-enc-scratch\"></a>Positional Encoding from Scratch\n",
    "\n",
    "**Explanation**: \n",
    "- We generate a big matrix for positions up to `max_len`. \n",
    "- We use `sin` and `cos` on even/odd indices to encode position.\n"
   ]
  },
  {
   "cell_type": "code",
   "execution_count": 1,
   "id": "2a83cc2a-72b8-4edc-8fe0-3e4374f4fc96",
   "metadata": {},
   "outputs": [],
   "source": [
    "import math\n",
    "import torch\n",
    "import torch.nn as nn\n",
    "\n",
    "class PositionalEncoding(nn.Module):\n",
    "    def __init__(self, d_model, max_len=5000):\n",
    "        super().__init__()\n",
    "        # Create a matrix of shape (max_len, d_model)\n",
    "        pe = torch.zeros(max_len, d_model)\n",
    "        position = torch.arange(0, max_len, dtype=torch.float).unsqueeze(1)\n",
    "        div_term = torch.exp(torch.arange(0, d_model, 2).float() * (-math.log(10000.0) / d_model))\n",
    "        pe[:, 0::2] = torch.sin(position * div_term)\n",
    "        pe[:, 1::2] = torch.cos(position * div_term)\n",
    "        # shape => (1, max_len, d_model) so we can broadcast\n",
    "        pe = pe.unsqueeze(0)\n",
    "        self.register_buffer('pe', pe)\n",
    "    \n",
    "    def forward(self, x):\n",
    "        \"\"\"\n",
    "        x shape: (batch_size, seq_len, d_model)\n",
    "        \"\"\"\n",
    "        seq_len = x.size(1)\n",
    "        # add in positional encoding\n",
    "        x = x + self.pe[:, :seq_len, :]\n",
    "        return x"
   ]
  },
  {
   "cell_type": "code",
   "execution_count": 65,
   "id": "f280278f-7d4f-4183-aac3-fbca22bd22d3",
   "metadata": {},
   "outputs": [
    {
     "data": {
      "text/plain": [
       "(np.float64(0.0), np.float64(256.0), np.float64(256.0), np.float64(0.0))"
      ]
     },
     "execution_count": 65,
     "metadata": {},
     "output_type": "execute_result"
    },
    {
     "data": {
      "image/png": "[encoded data removed]",
      "text/plain": [
       "<Figure size 1000x1000 with 1 Axes>"
      ]
     },
     "metadata": {},
     "output_type": "display_data"
    }
   ],
   "source": [
    "import seaborn as sns\n",
    "\n",
    "pe = PositionalEncoding(d_model=256, max_len=256)\n",
    "x = torch.zeros(1, 256, 256)\n",
    "pos = pe(x)[0].numpy()  # (seq_len, d_model)\n",
    "plt.figure(figsize=(10, 10))\n",
    "sns.heatmap(pos, annot=False, cbar=False, square=True)\n",
    "plt.gca().axis(\"off\")"
   ]
  },
  {
   "cell_type": "markdown",
   "id": "a6f0aa63-dbf7-4ec1-9934-c39070cb418f",
   "metadata": {},
   "source": [
    "### <a id=\"simple-transformer-block\"></a>Building a Simple Transformer Block\n",
    "\n",
    "**Notes**:  \n",
    "- The `mask` argument can be used for causal masking in a decoder or padding masking in an encoder.  \n",
    "- We apply **residual connections** and **layer normalization** after each sublayer, as in the original Transformer.\n"
   ]
  },
  {
   "cell_type": "code",
   "execution_count": 3,
   "id": "5d2a6328-eb0d-4d45-bb87-0f8ed4ac38d0",
   "metadata": {},
   "outputs": [],
   "source": [
    "class MultiHeadSelfAttention(nn.Module):\n",
    "    def __init__(self, d_model, num_heads):\n",
    "        super().__init__()\n",
    "        assert d_model % num_heads == 0\n",
    "        self.d_model = d_model\n",
    "        self.num_heads = num_heads\n",
    "        self.d_k = d_model // num_heads\n",
    "        \n",
    "        self.linear_q = nn.Linear(d_model, d_model)\n",
    "        self.linear_k = nn.Linear(d_model, d_model)\n",
    "        self.linear_v = nn.Linear(d_model, d_model)\n",
    "        self.linear_out = nn.Linear(d_model, d_model)\n",
    "        \n",
    "    def forward(self, x, mask=None):\n",
    "        # x: (batch_size, seq_len, d_model)\n",
    "        B, T, _ = x.size()\n",
    "        \n",
    "        Q = self.linear_q(x).view(B, T, self.num_heads, self.d_k)\n",
    "        K = self.linear_k(x).view(B, T, self.num_heads, self.d_k)\n",
    "        V = self.linear_v(x).view(B, T, self.num_heads, self.d_k)\n",
    "        \n",
    "        # permute => (batch_size, num_heads, seq_len, d_k)\n",
    "        Q = Q.permute(0, 2, 1, 3)\n",
    "        K = K.permute(0, 2, 1, 3)\n",
    "        V = V.permute(0, 2, 1, 3)\n",
    "        \n",
    "        # scaled dot-product attention\n",
    "        scores = torch.matmul(Q, K.transpose(-2, -1)) / math.sqrt(self.d_k)\n",
    "        if mask is not None:\n",
    "            scores = scores.masked_fill(mask == 0, -1e9)\n",
    "        \n",
    "        attn = torch.softmax(scores, dim=-1)\n",
    "        out = torch.matmul(attn, V)  # shape => (batch_size, num_heads, seq_len, d_k)\n",
    "        \n",
    "        # reshape back\n",
    "        out = out.permute(0, 2, 1, 3).contiguous()\n",
    "        out = out.view(B, T, self.d_model)\n",
    "        out = self.linear_out(out)\n",
    "        return out\n",
    "\n",
    "class TransformerBlock(nn.Module):\n",
    "    def __init__(self, d_model, num_heads, dim_feedforward=2048, dropout=0.1):\n",
    "        super().__init__()\n",
    "        self.attn = MultiHeadSelfAttention(d_model, num_heads)\n",
    "        self.norm1 = nn.LayerNorm(d_model)\n",
    "        self.ff = nn.Sequential(\n",
    "            nn.Linear(d_model, dim_feedforward),\n",
    "            nn.ReLU(),\n",
    "            nn.Linear(dim_feedforward, d_model),\n",
    "        )\n",
    "        self.norm2 = nn.LayerNorm(d_model)\n",
    "        self.dropout = nn.Dropout(dropout)\n",
    "        \n",
    "    def forward(self, x, mask=None):\n",
    "        # 1) Self-attention + residual\n",
    "        attn_out = self.attn(x, mask)\n",
    "        x = x + self.dropout(attn_out)\n",
    "        x = self.norm1(x)\n",
    "        \n",
    "        # 2) Feed-forward + residual\n",
    "        ff_out = self.ff(x)\n",
    "        x = x + self.dropout(ff_out)\n",
    "        x = self.norm2(x)\n",
    "        \n",
    "        return x"
   ]
  },
  {
   "cell_type": "markdown",
   "id": "dcb3d18a-91f6-4c09-9790-b6cacbed9ec4",
   "metadata": {},
   "source": [
    "### Putting It All Together in a Minimal Encoder\n",
    "\n",
    "This is a *very* simplified version of an **encoder**. A **decoder** would also incorporate a second attention block that attends to the encoder output.\n"
   ]
  },
  {
   "cell_type": "code",
   "execution_count": 4,
   "id": "8a1f564b-69e7-414a-b7f1-4e98655c6bc8",
   "metadata": {},
   "outputs": [],
   "source": [
    "class SimpleTransformerEncoder(nn.Module):\n",
    "    def __init__(self, vocab_size, d_model=128, num_heads=4, num_layers=2, max_len=5000):\n",
    "        super().__init__()\n",
    "        self.embedding = nn.Embedding(vocab_size, d_model)\n",
    "        self.pos_encoding = PositionalEncoding(d_model, max_len)\n",
    "        \n",
    "        self.layers = nn.ModuleList([\n",
    "            TransformerBlock(d_model, num_heads) for _ in range(num_layers)\n",
    "        ])\n",
    "    \n",
    "    def forward(self, x, mask=None):\n",
    "        # x shape: (batch_size, seq_len)\n",
    "        embedded = self.embedding(x)   # => (batch_size, seq_len, d_model)\n",
    "        embedded = self.pos_encoding(embedded)\n",
    "        \n",
    "        out = embedded\n",
    "        for layer in self.layers:\n",
    "            out = layer(out, mask)\n",
    "        return out"
   ]
  },
  {
   "cell_type": "markdown",
   "id": "87e9c56c-fc29-453c-8fd9-83371972ace4",
   "metadata": {},
   "source": [
    "\n",
    "### <a id=\"visualizing-attention\"></a>Visualizing Attention Weights\n",
    "\n",
    "To visualize attention:\n",
    "1. Modify `MultiHeadSelfAttention` to **return** the `attn` (attention weights).  \n",
    "2. Plot them using a heatmap (e.g., `matplotlib.seaborn.heatmap`)."
   ]
  },
  {
   "cell_type": "code",
   "execution_count": 6,
   "id": "74699482-54ba-4c2a-b6fd-271259015a09",
   "metadata": {},
   "outputs": [],
   "source": [
    "# Quick demonstration of capturing attention\n",
    "class MultiHeadSelfAttentionReturnWeights(MultiHeadSelfAttention):\n",
    "    def forward(self, x, mask=None):\n",
    "        B, T, _ = x.size()\n",
    "        \n",
    "        Q = self.linear_q(x).view(B, T, self.num_heads, self.d_k).permute(0, 2, 1, 3)\n",
    "        K = self.linear_k(x).view(B, T, self.num_heads, self.d_k).permute(0, 2, 1, 3)\n",
    "        V = self.linear_v(x).view(B, T, self.num_heads, self.d_k).permute(0, 2, 1, 3)\n",
    "\n",
    "        scores = torch.matmul(Q, K.transpose(-2, -1)) / math.sqrt(self.d_k)\n",
    "        if mask is not None:\n",
    "            scores = scores.masked_fill(mask == 0, -1e9)\n",
    "\n",
    "        attn = torch.softmax(scores, dim=-1)\n",
    "        out = torch.matmul(attn, V)\n",
    "        \n",
    "        out = out.permute(0, 2, 1, 3).contiguous().view(B, T, self.d_model)\n",
    "        out = self.linear_out(out)\n",
    "        return out, attn\n",
    "\n",
    "# Then, in your code, replace the old attention with \"ReturnWeights\" variant and visualize.\n"
   ]
  },
  {
   "cell_type": "markdown",
   "id": "66e1eed6-765f-4796-9fe6-fe8ee7d52b63",
   "metadata": {},
   "source": [
    "### Exercise 4: Simple Transformer Tests\n",
    "1. **Implement** the attention-weight-return version above.  \n",
    "2. Pass a small batch (like random token IDs) through the encoder.  \n",
    "3. Plot the attention heatmap for each head.  \n",
    "4. Observe how each head “pays attention” to different positions in the sequence."
   ]
  },
  {
   "cell_type": "markdown",
   "id": "c74ea9e8-b512-471f-becb-9ac46c111af8",
   "metadata": {},
   "source": [
    "## <a id=\"brief-preprocessing\"></a>5. (Optional) Brief Notes on Data Preprocessing\n",
    "\n",
    "While the **focus** of this session is modeling, recall from previous sessions that **preprocessing** for Transformers typically involves **subword tokenization** (e.g., BPE or WordPiece), special tokens (like `[CLS]`, `[SEP]`), and attention masks for padding. Tools like **Hugging Face**’s `transformers` and `tokenizers` libraries handle these details seamlessly.\n"
   ]
  },
  {
   "cell_type": "markdown",
   "id": "6eea5e3d-90d1-4963-aaf9-87a68ff3718a",
   "metadata": {},
   "source": [
    "## <a id=\"training-transformer\"/>6. (Optional) Training a Simple Transformer Decoder for Causal Language Modeling\n",
    "\n",
    "In this optional section, we’ll demonstrate how to train a **Transformer Decoder** in a **causal language modeling** setup (like GPT). We’ll use a **tiny Shakespeare** dataset to keep things manageable. The key ideas are:\n",
    "\n",
    "1. **Decoder-Only Architecture**: We only stack self-attention blocks, no separate encoder.  \n",
    "2. **Causal Mask (Triangular Mask)**: Ensures each token only attends to itself and previous tokens, not future ones.  \n",
    "3. **Next-Token Prediction**: At each time step, predict the *next* character (or token).\n",
    "\n",
    "Below is a step-by-step guide and a minimal code outline.\n"
   ]
  },
  {
   "cell_type": "markdown",
   "id": "86b50364-aba4-48af-b0db-daa1a8203c85",
   "metadata": {},
   "source": [
    "### A. Preparing a Tiny Shakespeare Dataset\n",
    "\n",
    "For demonstration, assume you have a file named `tiny_shakespeare.txt` (you can get a version from [Andrej Karpathy’s repo](https://github.com/karpathy/char-rnn) or anywhere else). Let’s read it in and do a simple **character-level** approach:\n",
    "\n",
    "\n",
    "**Note**: For a more advanced approach, you could use subword tokenization. But character-level is straightforward for a small dataset.\n"
   ]
  },
  {
   "cell_type": "code",
   "execution_count": 16,
   "id": "a47d30fd-d5ca-486f-9195-c95b00a394f5",
   "metadata": {},
   "outputs": [
    {
     "name": "stdout",
     "output_type": "stream",
     "text": [
      "Corpus length: 1115394\n",
      "Vocabulary size: 65\n"
     ]
    }
   ],
   "source": [
    "import torch\n",
    "import torch.nn as nn\n",
    "from torch.utils.data import Dataset, DataLoader\n",
    "import math\n",
    "\n",
    "# 1) Load a small Shakespeare corpus\n",
    "with open(\"tiny_shakespeare.txt\", \"r\", encoding=\"utf-8\") as f:\n",
    "    text = f.read()\n",
    "\n",
    "print(\"Corpus length:\", len(text))\n",
    "\n",
    "# 2) Build a character-level vocab\n",
    "chars = sorted(list(set(text)))\n",
    "vocab_size = len(chars)\n",
    "char2idx = {ch: i for i, ch in enumerate(chars)}\n",
    "idx2char = {i: ch for ch, i in char2idx.items()}\n",
    "\n",
    "print(f\"Vocabulary size: {vocab_size}\")\n",
    "\n",
    "# Convert text to indices\n",
    "data = [char2idx[ch] for ch in text]\n",
    "data_tensor = torch.tensor(data, dtype=torch.long)\n",
    "\n",
    "# Let's define some hyperparameters\n",
    "seq_length = 64  # chunk size\n",
    "batch_size = 32"
   ]
  },
  {
   "cell_type": "markdown",
   "id": "0f447a55-60a7-424c-a082-372e27bbc403",
   "metadata": {},
   "source": [
    "\n",
    "### B. Creating a Causal LM Dataset\n",
    "\n",
    "We want each sequence to predict the *next* character for each position. So if our sequence is \\([x_0, x_1, ..., x_{t}]\\), we want to predict \\([x_1, x_2, ..., x_{t+1}]\\). We can store them as `(input_seq, target_seq)` pairs.\n",
    "\n",
    "Here, `x_seq[i]` should predict `y_seq[i]`, shifting by one character.\n"
   ]
  },
  {
   "cell_type": "code",
   "execution_count": 9,
   "id": "8e20e759-cff9-475f-957e-34f522441003",
   "metadata": {},
   "outputs": [
    {
     "name": "stdout",
     "output_type": "stream",
     "text": [
      "Num batches: 544\n"
     ]
    }
   ],
   "source": [
    "class ShakespeareCharDataset(Dataset):\n",
    "    def __init__(self, data_tensor, seq_length=64):\n",
    "        self.data = data_tensor\n",
    "        self.seq_length = seq_length\n",
    "        # We'll create as many full chunks as possible\n",
    "        self.num_samples = len(self.data) // seq_length - 1\n",
    "    \n",
    "    def __len__(self):\n",
    "        return self.num_samples\n",
    "    \n",
    "    def __getitem__(self, idx):\n",
    "        start = idx * self.seq_length\n",
    "        x_seq = self.data[start : start + self.seq_length]\n",
    "        y_seq = self.data[start + 1 : start + self.seq_length + 1]\n",
    "        return x_seq, y_seq\n",
    "\n",
    "dataset = ShakespeareCharDataset(data_tensor, seq_length=seq_length)\n",
    "dataloader = DataLoader(dataset, batch_size=batch_size, shuffle=True, drop_last=True)\n",
    "print(\"Num batches:\", len(dataloader))"
   ]
  },
  {
   "cell_type": "markdown",
   "id": "54c3fc2d-fc36-4623-80e1-c2766e235088",
   "metadata": {},
   "source": [
    "\n",
    "### C. Building a Causal Decoder Model\n",
    "\n",
    "We’ll adapt our **TransformerBlock** for a **decoder-only** scenario. The main difference is applying a **causal mask** so tokens cannot attend to future positions.\n",
    "\n",
    "#### 1. Causal Mask Function\n",
    "\n",
    "A common technique is to create a **triangular** attention mask of shape `(seq_length, seq_length)` where positions `j > i` are masked out."
   ]
  },
  {
   "cell_type": "code",
   "execution_count": 10,
   "id": "01cf5175-ea7c-4f89-af0c-ac3eb20ee7a3",
   "metadata": {},
   "outputs": [],
   "source": [
    "def generate_causal_mask(seq_length):\n",
    "    \"\"\"\n",
    "    Returns a (seq_length, seq_length) mask,\n",
    "    where positions j>i are set to False (meaning \"do not attend\").\n",
    "    \"\"\"\n",
    "    # shape (seq_length, seq_length)\n",
    "    mask = torch.tril(torch.ones(seq_length, seq_length)).bool()\n",
    "    return mask  # True means \"allowed to attend\"\n"
   ]
  },
  {
   "cell_type": "markdown",
   "id": "7f0b390a-92dd-4215-840d-4cc7eec561e3",
   "metadata": {},
   "source": [
    "\n",
    "#### 2. Simple DecoderBlock\n",
    "\n",
    "We can reuse a similar block to our earlier `TransformerBlock`, but we’ll clarify the self-attention is **causal**.\n",
    "\n",
    "*(We’re assuming the `MultiHeadSelfAttention` class from the prior session or snippet, which can apply `mask` to the `scores`.)*\n"
   ]
  },
  {
   "cell_type": "code",
   "execution_count": 12,
   "id": "60614eb3-d3c6-4c57-aed6-0f419b5d741b",
   "metadata": {},
   "outputs": [],
   "source": [
    "\n",
    "class DecoderBlock(nn.Module):\n",
    "    def __init__(self, d_model, num_heads, dim_feedforward=2048, dropout=0.1):\n",
    "        super().__init__()\n",
    "        self.attn = MultiHeadSelfAttention(d_model, num_heads)\n",
    "        self.norm1 = nn.LayerNorm(d_model)\n",
    "        self.ff = nn.Sequential(\n",
    "            nn.Linear(d_model, dim_feedforward),\n",
    "            nn.ReLU(),\n",
    "            nn.Linear(dim_feedforward, d_model),\n",
    "        )\n",
    "        self.norm2 = nn.LayerNorm(d_model)\n",
    "        self.dropout = nn.Dropout(dropout)\n",
    "    \n",
    "    def forward(self, x, mask=None):\n",
    "        # 1) Causal self-attention + residual\n",
    "        attn_out = self.attn(x, mask=mask)\n",
    "        x = x + self.dropout(attn_out)\n",
    "        x = self.norm1(x)\n",
    "        \n",
    "        # 2) Feed-forward + residual\n",
    "        ff_out = self.ff(x)\n",
    "        x = x + self.dropout(ff_out)\n",
    "        x = self.norm2(x)\n",
    "        \n",
    "        return x"
   ]
  },
  {
   "cell_type": "markdown",
   "id": "a74b9198-f14f-42f8-8d5a-01dba20c9ac5",
   "metadata": {},
   "source": [
    "\n",
    "#### 3. Decoder Model\n",
    "\n",
    "We can define a small model that:\n",
    "1. Embeds characters,\n",
    "2. Adds positional encoding,\n",
    "3. Stacks `DecoderBlock` layers,\n",
    "4. Outputs logits over the vocabulary at each time step.\n",
    "\n",
    "Note how we generate the `causal_mask(T,T)` and pass it along so each token can’t attend to future positions.\n"
   ]
  },
  {
   "cell_type": "code",
   "execution_count": 14,
   "id": "cf3f6223-fed9-476b-ae78-db78c154b7f4",
   "metadata": {},
   "outputs": [],
   "source": [
    "\n",
    "class CausalTransformerDecoder(nn.Module):\n",
    "    def __init__(self, vocab_size, d_model=128, num_heads=4, num_layers=2, max_len=512):\n",
    "        super().__init__()\n",
    "        self.embedding = nn.Embedding(vocab_size, d_model)\n",
    "        self.pos_encoding = PositionalEncoding(d_model, max_len)\n",
    "        \n",
    "        self.layers = nn.ModuleList([\n",
    "            DecoderBlock(d_model, num_heads) for _ in range(num_layers)\n",
    "        ])\n",
    "        self.fc_out = nn.Linear(d_model, vocab_size)\n",
    "    \n",
    "    def forward(self, x):\n",
    "        \"\"\"\n",
    "        x: (batch_size, seq_length) of token indices\n",
    "        returns: (batch_size, seq_length, vocab_size)\n",
    "        \"\"\"\n",
    "        B, T = x.size()\n",
    "        # Embeddings + positions\n",
    "        embed = self.embedding(x)  # (B, T, d_model)\n",
    "        embed = self.pos_encoding(embed)  # add positional info\n",
    "        \n",
    "        # Generate causal mask (for each batch, we broadcast the same mask)\n",
    "        mask = generate_causal_mask(T).to(x.device)  # (T, T)\n",
    "        \n",
    "        out = embed\n",
    "        for layer in self.layers:\n",
    "            out = layer(out, mask=mask)\n",
    "        \n",
    "        # Predict next char at each position\n",
    "        logits = self.fc_out(out)  # (B, T, vocab_size)\n",
    "        return logits\n"
   ]
  },
  {
   "cell_type": "markdown",
   "id": "7325cea6-4e6a-40f6-8466-b391ca258715",
   "metadata": {},
   "source": [
    "\n",
    "### D. Training Loop\n",
    "\n",
    "We’ll do **cross-entropy** on each position’s next-char prediction.\n",
    "\n",
    "For a small dataset (like `tiny_shakespeare.txt`), you might want more epochs or a smaller `d_model`. The final model can then do **character-level generation** using a standard autoregressive approach:\n"
   ]
  },
  {
   "cell_type": "code",
   "execution_count": 17,
   "id": "6fe2517f-8b1c-4031-bf6a-699f3e63c9b4",
   "metadata": {},
   "outputs": [
    {
     "name": "stdout",
     "output_type": "stream",
     "text": [
      "Using device: cuda\n",
      "Epoch 1/10, Loss: 2.0594\n",
      "Epoch 2/10, Loss: 1.6656\n",
      "Epoch 3/10, Loss: 1.5849\n",
      "Epoch 4/10, Loss: 1.5376\n",
      "Epoch 5/10, Loss: 1.5037\n",
      "Epoch 6/10, Loss: 1.4699\n",
      "Epoch 7/10, Loss: 1.4487\n",
      "Epoch 8/10, Loss: 1.4221\n",
      "Epoch 9/10, Loss: 1.4065\n",
      "Epoch 10/10, Loss: 1.4026\n"
     ]
    }
   ],
   "source": [
    "import torch.optim as optim\n",
    "\n",
    "device = \"cuda\" if torch.cuda.is_available() else \"cpu\"\n",
    "print(\"Using device:\", device)\n",
    "\n",
    "model = CausalTransformerDecoder(vocab_size, d_model=512, num_heads=4, num_layers=3)\n",
    "model.to(device)\n",
    "\n",
    "criterion = nn.CrossEntropyLoss()\n",
    "optimizer = optim.Adam(model.parameters(), lr=1e-3)\n",
    "epochs = 10\n",
    "\n",
    "for epoch in range(epochs):\n",
    "    model.train()\n",
    "    total_loss = 0\n",
    "    \n",
    "    for x_seq, y_seq in dataloader:\n",
    "        x_seq, y_seq = x_seq.to(device), y_seq.to(device)\n",
    "        \n",
    "        optimizer.zero_grad()\n",
    "        # logits: (batch_size, seq_length, vocab_size)\n",
    "        logits = model(x_seq)\n",
    "        \n",
    "        # reshape for cross-entropy\n",
    "        # we want (batch_size*seq_length, vocab_size) vs. (batch_size*seq_length)\n",
    "        logits_reshaped = logits.view(-1, vocab_size)\n",
    "        targets_reshaped = y_seq.view(-1)\n",
    "        \n",
    "        loss = criterion(logits_reshaped, targets_reshaped)\n",
    "        loss.backward()\n",
    "        optimizer.step()\n",
    "        \n",
    "        total_loss += loss.item()\n",
    "    \n",
    "    avg_loss = total_loss / len(dataloader)\n",
    "    print(f\"Epoch {epoch+1}/{epochs}, Loss: {avg_loss:.4f}\")"
   ]
  },
  {
   "cell_type": "markdown",
   "id": "cc0ff4fe-6fdb-44d4-b63f-59549a4b1ff9",
   "metadata": {},
   "source": [
    "\n",
    "### E. Generating Shakespeare-Like Text\n",
    "\n",
    "After training, you can generate text:\n",
    "\n",
    "**Notes**:\n",
    "- Adjust `temperature` for more or less randomness.\n",
    "- If the dataset is tiny, results may still be partially gibberish. You can experiment with more epochs or a bigger model dimension.\n"
   ]
  },
  {
   "cell_type": "code",
   "execution_count": 18,
   "id": "c98a64d5-8e6c-4eb4-9274-95a45c010156",
   "metadata": {},
   "outputs": [
    {
     "name": "stdout",
     "output_type": "stream",
     "text": [
      "Generated:\n",
      " ROMEO:\n",
      "Sir, which, they know you have, and my weep to sit\n",
      "Thy maide ke turridstistove orrrrrke pe skinsty stharche prrrke,l'torige h stile in ch agesos we de ly mblablosty y fty ble,ntharkinge f morkes tarrch forkingrty t, s tinge parkes h ie tinge R s s fourch orkin infounges we y forrkimanghaly forkiche\n"
     ]
    }
   ],
   "source": [
    "\n",
    "def generate_text(model, start_str=\"ROMEO:\", max_new_tokens=200, temperature=1.0):\n",
    "    model.eval()\n",
    "    # Convert start_str to indices\n",
    "    input_ids = torch.tensor([char2idx[ch] for ch in start_str], dtype=torch.long).unsqueeze(0).to(device)\n",
    "    \n",
    "    # We'll generate token by token\n",
    "    for _ in range(max_new_tokens):\n",
    "        # Get logits for the last token\n",
    "        logits = model(input_ids)  # shape: (1, seq_len, vocab_size)\n",
    "        logits = logits[:, -1, :]  # only the last time step\n",
    "        logits = logits / temperature\n",
    "        \n",
    "        probs = torch.softmax(logits, dim=-1)\n",
    "        next_id = torch.multinomial(probs, 1).item()\n",
    "        \n",
    "        # Append to sequence\n",
    "        input_ids = torch.cat([input_ids, torch.tensor([[next_id]], device=device)], dim=1)\n",
    "    \n",
    "    # Convert back to characters\n",
    "    generated_seq = [idx2char[t.item()] for t in input_ids[0]]\n",
    "    return \"\".join(generated_seq)\n",
    "\n",
    "sample_output = generate_text(model, start_str=\"ROMEO:\", max_new_tokens=300, temperature=0.8)\n",
    "print(\"Generated:\\n\", sample_output)\n",
    "\n"
   ]
  },
  {
   "cell_type": "markdown",
   "id": "d03ebe01-4eaa-4978-8a73-6ce9b35c9b7f",
   "metadata": {},
   "source": [
    "\n",
    "### Summary of This Optional Section\n",
    "\n",
    "- We showed a **decoder-only Transformer** for **causal language modeling**.\n",
    "- We used a **triangular mask** to prevent each token from attending to future positions.\n",
    "- We trained it on a **tiny Shakespeare** dataset with a **character-level** approach.\n",
    "\n",
    "**Advantages**:\n",
    "- This approach is the conceptual basis for **GPT-like** models (decoder-based Transformers).\n",
    "- You can scale up the same logic for bigger datasets and more layers.\n",
    "\n",
    "Feel free to explore:\n",
    "- **Subword tokenization** for improved text quality.  \n",
    "- **More layers** or bigger hidden dimensions.  \n",
    "- **Longer training** if you have the resources."
   ]
  },
  {
   "cell_type": "markdown",
   "id": "f84453e1-b366-4bda-828c-3ebc608a945e",
   "metadata": {},
   "source": [
    "## <a id=\"conclusion\"></a>7. Conclusion\n",
    "\n",
    "**Key Takeaways**:\n",
    "1. **Self-Attention** provides a parallelizable mechanism that can handle **long-distance dependencies** better than RNNs.  \n",
    "2. **Multi-Head** setups capture different relational aspects simultaneously.  \n",
    "3. **Positional Encodings** introduce sequence order into an otherwise order-agnostic attention mechanism.  \n",
    "4. Transformers come in **encoder-only** (BERT), **decoder-only** (GPT), and **encoder-decoder** (T5) variants, each suited for different tasks.\n",
    "\n",
    "With the knowledge from **Session 2 (RNNs)** and **Session 3 (Transformers)**, you’re now well-equipped to:\n",
    "- **Implement** or **fine-tune** these models.\n",
    "- **Explore** how attention reveals interpretability.\n",
    "- **Optimize** training for large-scale tasks (though we didn’t dive deeply into that here).\n"
   ]
  },
  {
   "cell_type": "markdown",
   "id": "5670d47a-a20c-4ba1-a4a4-c9128603669a",
   "metadata": {},
   "source": [
    "---"
   ]
  },
  {
   "cell_type": "markdown",
   "id": "e0b51f59-0c0f-413e-a0a2-f825312d9b5d",
   "metadata": {},
   "source": [
    "# Fun: Train a Shakespearean Transformer Model"
   ]
  },
  {
   "cell_type": "code",
   "execution_count": null,
   "id": "966d30e8-4c58-4d9e-9b72-66b0b95d36c8",
   "metadata": {},
   "outputs": [],
   "source": []
  }
 ],
 "metadata": {
  "kernelspec": {
   "display_name": "Python 3 (ipykernel)",
   "language": "python",
   "name": "python3"
  },
  "language_info": {
   "codemirror_mode": {
    "name": "ipython",
    "version": 3
   },
   "file_extension": ".py",
   "mimetype": "text/x-python",
   "name": "python",
   "nbconvert_exporter": "python",
   "pygments_lexer": "ipython3",
   "version": "3.12.8"
  }
 },
 "nbformat": 4,
 "nbformat_minor": 5
}
