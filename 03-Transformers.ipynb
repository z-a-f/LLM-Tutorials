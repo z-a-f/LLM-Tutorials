{
 "cells": [
  {
   "cell_type": "code",
   "execution_count": 1,
   "id": "181752d6-cd2e-4b63-bb99-73aeb986634a",
   "metadata": {
    "tags": []
   },
   "outputs": [
    {
     "name": "stdout",
     "output_type": "stream",
     "text": [
      "\u001b[33mWARNING: Running pip as the 'root' user can result in broken permissions and conflicting behaviour with the system package manager, possibly rendering your system unusable.It is recommended to use a virtual environment instead: https://pip.pypa.io/warnings/venv. Use the --root-user-action option if you know what you are doing and want to suppress this warning.\u001b[0m\u001b[33m\n",
      "\u001b[0m\n",
      "\u001b[1m[\u001b[0m\u001b[34;49mnotice\u001b[0m\u001b[1;39;49m]\u001b[0m\u001b[39;49m A new release of pip is available: \u001b[0m\u001b[31;49m24.3.1\u001b[0m\u001b[39;49m -> \u001b[0m\u001b[32;49m25.0.1\u001b[0m\n",
      "\u001b[1m[\u001b[0m\u001b[34;49mnotice\u001b[0m\u001b[1;39;49m]\u001b[0m\u001b[39;49m To update, run: \u001b[0m\u001b[32;49mpython3 -m pip install --upgrade pip\u001b[0m\n",
      "Note: you may need to restart the kernel to use updated packages.\n"
     ]
    }
   ],
   "source": [
    "%pip install -q seaborn"
   ]
  },
  {
   "cell_type": "code",
   "execution_count": 2,
   "id": "92c3a734-4edd-46ef-94bf-0bc421bddc26",
   "metadata": {
    "tags": []
   },
   "outputs": [],
   "source": [
    "# Hack to get repo path on remotes\n",
    "import os\n",
    "REPOPATH = os.path.abspath('.')\n",
    "if \"MLX_USER\" in os.environ:\n",
    "    REPOPATH = os.path.join(\"/mlx/users\", os.environ[\"MLX_USER\"], \"repo/LLM-Tutorials\")"
   ]
  },
  {
   "cell_type": "code",
   "execution_count": 3,
   "id": "abd3a712-8a9b-4845-8f07-5d74e0609e70",
   "metadata": {
    "id": "abd3a712-8a9b-4845-8f07-5d74e0609e70",
    "tags": []
   },
   "outputs": [],
   "source": [
    "import matplotlib.pyplot as plt\n",
    "import numpy as np"
   ]
  },
  {
   "cell_type": "markdown",
   "id": "e10adb3b-1e21-40d8-a0c5-4ff0862714fd",
   "metadata": {
    "id": "e10adb3b-1e21-40d8-a0c5-4ff0862714fd"
   },
   "source": [
    "# Session 3 – Transformers and Model Architectures\n",
    "\n",
    "> The emergence of Transformers dramatically changed the NLP landscape. While RNNs and LSTMs are still valuable for certain scenarios, Transformers excel in most tasks due to their powerful self-attention mechanism and ability to scale to massive datasets. Mastering both architectures gives you a well-rounded understanding of modern NLP.\n",
    "\n",
    "In the previous sessions, we explored **RNNs and LSTMs**, which have been foundational for sequential tasks. Now, we transition to **Transformers**—the architecture that has revolutionized NLP in recent years.\n",
    "\n",
    "**Session Description**:  \n",
    "This session covers the **fundamental concepts** behind Transformer architectures, including **self-attention**, **encoders/decoders**, and **their advantages over RNNs**. We’ll also look at **positional encodings**, and differences among **encoder-based (BERT)**, **decoder-based (GPT)**, and **sequence-to-sequence models (T5)**.\n"
   ]
  },
  {
   "cell_type": "markdown",
   "id": "11e6c36b-d697-4bf4-a559-ab1032b1aca4",
   "metadata": {
    "id": "11e6c36b-d697-4bf4-a559-ab1032b1aca4"
   },
   "source": [
    "## Table of Contents\n",
    "\n",
    "1. [Introduction: Why Move Beyond RNNs?](#introduction)\n",
    "1. [Transformer Basics](#transformer-basics)\n",
    "   - [Self-Attention](#self-attention)\n",
    "   - [Multi-Head Attention](#multi-head-attention)\n",
    "   - [Positional Encoding](#positional-encoding)\n",
    "1. [High-Level Transformer Architecture](#transformer-architecture)\n",
    "   - [Encoder, Decoder, & Seq2Seq](#encoder-decoder-seq2seq)\n",
    "   - [Example: BERT vs. GPT vs. T5](#bert-gpt-t5)\n",
    "1. [Minimal Transformer Implementation in PyTorch](#minimal-transformer)\n",
    "   - [Positional Encoding from Scratch](#pos-enc-scratch)\n",
    "   - [Building a Simple Transformer Block](#simple-transformer-block)\n",
    "   - [Visualizing Attention Weights](#visualizing-attention)\n",
    "1. [(Optional) Brief Notes on Data Preprocessing](#brief-preprocessing)\n",
    "1. [(Optional) Training a Transformer](#training-transformer)\n",
    "1. [Conclusion](#conclusion)\n",
    "\n",
    "Each major concept includes an **Exercise** to help reinforce your understanding. Let’s dive in!"
   ]
  },
  {
   "cell_type": "markdown",
   "id": "9d935f30-bd9c-44ab-9ef1-9daf0cde15c2",
   "metadata": {
    "id": "9d935f30-bd9c-44ab-9ef1-9daf0cde15c2"
   },
   "source": [
    "\n",
    "## <a id=\"introduction\"></a>1. Introduction: Why Move Beyond RNNs?\n",
    "\n",
    "**RNNs** (and their variants, LSTMs, GRUs) were once the state-of-the-art for many NLP tasks. However, they come with **limitations**:\n",
    "\n",
    "1. **Sequential Computation**: RNNs process tokens one by one, which can be slow for long sequences.  \n",
    "2. **Long-Term Dependencies**: Even with gating (LSTMs, GRUs), very long sequences can still cause issues (vanishing gradients).  \n",
    "3. **Parallelization Difficulty**: Because each step depends on the previous hidden state, parallelizing training or inference is more challenging.\n",
    "\n",
    "**Transformers** address these issues by using **attention mechanisms**—particularly **self-attention**—to process tokens in **parallel** and model long-range dependencies more effectively.\n",
    "\n",
    "### Exercise 1: Recap RNN Limitations\n",
    "**Goal**:  \n",
    "Write a short paragraph summarizing the main challenges you faced (or foresee) when using RNNs for large, complex sequences. How might a parallelizable architecture help?\n",
    "*(No code needed—just a conceptual reflection.)*\n"
   ]
  },
  {
   "cell_type": "markdown",
   "id": "6f3d1576-773a-4673-bdbd-edb13d1878cd",
   "metadata": {
    "id": "6f3d1576-773a-4673-bdbd-edb13d1878cd"
   },
   "source": [
    "## <a id=\"transformer-basics\"></a>2. Transformer Basics\n",
    "\n",
    "The **Transformer** architecture, introduced in the paper “Attention Is All You Need” (Vaswani et al., 2017), replaces recurrence with **self-attention** as its core building block.\n",
    "\n",
    "### <a id=\"self-attention\"></a>Self-Attention\n",
    "\n",
    "**Key Idea**: Each token in the input attends to every other token, learning contextual relationships without sequential operations.\n",
    "\n",
    "1. **Queries (Q)**, **Keys (K)**, and **Values (V)** are computed from each input token.  \n",
    "2. The **attention score** for a given token is the similarity (e.g., dot product) between its **query** and other tokens’ **keys**.  \n",
    "3. Weighted sums of **values** produce the self-attended representation.\n",
    "\n",
    "Formally, one head of attention is:\n",
    "$$\n",
    "\\text{Attention}(Q, K, V) = \\text{softmax}\\left(\\frac{QK^\\top}{\\sqrt{d_k}}\\right)V\n",
    "$$"
   ]
  },
  {
   "cell_type": "markdown",
   "id": "f73ba4aa-c1d7-4105-a36f-43d82bf18689",
   "metadata": {
    "id": "f73ba4aa-c1d7-4105-a36f-43d82bf18689"
   },
   "source": [
    "### <a id=\"multi-head-attention\"></a>Multi-Head Attention\n",
    "\n",
    "Instead of using a single attention function, **multi-head attention** runs several in parallel:\n",
    "$$\n",
    "\\text{MultiHead}(Q, K, V) = \\text{Concat}(\\text{head}_1, ..., \\text{head}_h)W^O\n",
    "$$\n",
    "Each head captures different aspects of pairwise relationships (e.g., syntactic vs. semantic dependencies).\n",
    "\n",
    "\n",
    "$y_t = f(h_t)$\n",
    "\n",
    "\n",
    "\n",
    "$$\n",
    "x_1, x_2, x_3  => \\text{Relative Position is not preserved}\n",
    "$$"
   ]
  },
  {
   "cell_type": "markdown",
   "id": "ad792af6-cb87-4902-8af0-6ca19c5348df",
   "metadata": {
    "id": "ad792af6-cb87-4902-8af0-6ca19c5348df"
   },
   "source": [
    "### <a id=\"positional-encoding\"></a>Positional Encoding\n",
    "\n",
    "Because self-attention does **not** inherently encode sequence order (unlike RNNs), Transformers use **positional encodings** to inject sequence position information. A common approach is **sinusoidal encoding**:\n",
    "$$\n",
    "PE_{(pos,2i)} = \\sin\\left(\\frac{pos}{10000^{2i/d_{\\text{model}}}}\\right), \\quad\n",
    "PE_{(pos,2i+1)} = \\cos\\left(\\frac{pos}{10000^{2i/d_{\\text{model}}}}\\right)\n",
    "$$\n",
    "This allows the model to learn both relative and absolute positions in the sequence.\n"
   ]
  },
  {
   "cell_type": "markdown",
   "id": "f0e7ddbb-5236-4427-810f-35dabe4eb63b",
   "metadata": {
    "id": "f0e7ddbb-5236-4427-810f-35dabe4eb63b"
   },
   "source": [
    "### Exercise 2: Calculate Self-Attention by Hand\n",
    "**Goal**:  \n",
    "1. Take a small sequence of 3 tokens with embedding size 2. Create random Q, K, V (e.g., by hand or with small random numbers).  \n",
    "2. Manually compute the attention scores and output.  \n",
    "3. Compare with a PyTorch snippet that does the same operation.  \n",
    "\n",
    "*(Focus on the concept—this is to solidify how queries, keys, and values interact.)*"
   ]
  },
  {
   "cell_type": "code",
   "execution_count": 4,
   "id": "s_y4LzomtSe_",
   "metadata": {
    "colab": {
     "base_uri": "https://localhost:8080/"
    },
    "id": "s_y4LzomtSe_",
    "outputId": "5c73423a-78c0-431f-bcd2-dd45c10cde46",
    "tags": []
   },
   "outputs": [
    {
     "name": "stdout",
     "output_type": "stream",
     "text": [
      "Scores:\n",
      " [[3.53553391 2.82842712 1.41421356]\n",
      " [2.82842712 3.53553391 0.70710678]\n",
      " [1.41421356 0.70710678 0.70710678]]\n",
      "Attention Weights (softmax):\n",
      " [[0.61998512 0.30569525 0.07431963]\n",
      " [0.3176632  0.64425749 0.03807932]\n",
      " [0.50348984 0.24825508 0.24825508]]\n",
      "Output (final):\n",
      " [[1.23137562 1.61998512]\n",
      " [1.60617817 1.3176632 ]\n",
      " [1.         1.50348984]]\n"
     ]
    }
   ],
   "source": [
    "# Custom\n",
    "\n",
    "import numpy as np\n",
    "\n",
    "# Token embeddings (batch_size=1, seq_len=3, embedding_size=2)\n",
    "x = np.array([\n",
    "    [1, 2],  # x1\n",
    "    [2, 1],  # x2\n",
    "    [0, 1]   # x3\n",
    "], dtype=float)\n",
    "d_k = 2\n",
    "\n",
    "# For simplicity, Q = K = V = x\n",
    "Q = x\n",
    "K = x\n",
    "V = x\n",
    "\n",
    "# 1) Compute raw scores = Q * K^T\n",
    "# shape: (3,3)\n",
    "scores = np.matmul(Q, K.T) / np.sqrt(d_k)\n",
    "\n",
    "# 2) Softmax over last axis\n",
    "from math import exp\n",
    "def softmax(vec):\n",
    "    exps = [exp(v) for v in vec]\n",
    "    s = sum(exps)\n",
    "    return [e/s for e in exps]\n",
    "\n",
    "# For each row in scores, we apply softmax\n",
    "attn = np.array([softmax(row) for row in scores])\n",
    "\n",
    "# 3) Weighted sum with V\n",
    "out = np.matmul(attn, V)\n",
    "\n",
    "print(\"Scores:\\n\", scores)\n",
    "print(\"Attention Weights (softmax):\\n\", attn)\n",
    "print(\"Output (final):\\n\", out)"
   ]
  },
  {
   "cell_type": "code",
   "execution_count": 5,
   "id": "gLw8U5xItgfP",
   "metadata": {
    "colab": {
     "base_uri": "https://localhost:8080/"
    },
    "id": "gLw8U5xItgfP",
    "outputId": "b9eb9041-055c-441b-adef-578fea136c78",
    "tags": []
   },
   "outputs": [
    {
     "name": "stdout",
     "output_type": "stream",
     "text": [
      "scores_torch: tensor([[3.5355, 2.8284, 1.4142],\n",
      "        [2.8284, 3.5355, 0.7071],\n",
      "        [1.4142, 0.7071, 0.7071]], dtype=torch.float64)\n",
      "attn_torch: tensor([[0.6200, 0.3057, 0.0743],\n",
      "        [0.3177, 0.6443, 0.0381],\n",
      "        [0.5035, 0.2483, 0.2483]], dtype=torch.float64)\n",
      "out_torch: tensor([[1.2314, 1.6200],\n",
      "        [1.6062, 1.3177],\n",
      "        [1.0000, 1.5035]], dtype=torch.float64)\n"
     ]
    }
   ],
   "source": [
    "# PyTorch\n",
    "import torch.nn.functional as F\n",
    "import torch\n",
    "\n",
    "x_torch = torch.tensor(x)  # shape (3,2)\n",
    "# Q=K=V => shape (3,2)\n",
    "\n",
    "scores_torch = (x_torch @ x_torch.T) / torch.sqrt(torch.tensor(d_k, dtype=torch.float))\n",
    "attn_torch = F.softmax(scores_torch, dim=-1)\n",
    "out_torch = attn_torch @ x_torch\n",
    "\n",
    "print(\"scores_torch:\", scores_torch)\n",
    "print(\"attn_torch:\", attn_torch)\n",
    "print(\"out_torch:\", out_torch)"
   ]
  },
  {
   "cell_type": "markdown",
   "id": "df5547ff-9af0-45e6-9fbe-655da8cfeafb",
   "metadata": {
    "id": "df5547ff-9af0-45e6-9fbe-655da8cfeafb"
   },
   "source": [
    "## <a id=\"transformer-architecture\"></a>3. High-Level Transformer Architecture\n",
    "\n",
    "A typical **Transformer** stack includes:\n",
    "1. **Embedding** + **Positional Encoding** (for each token in the input).\n",
    "2. **Encoder**: multiple layers of multi-head self-attention + feedforward sub-layers.\n",
    "3. **Decoder**: similarly stacked, but it attends to the encoder’s outputs in addition to self-attending to its own inputs.\n"
   ]
  },
  {
   "cell_type": "markdown",
   "id": "1da24d38-cb7c-434b-9935-5606de72d975",
   "metadata": {
    "id": "1da24d38-cb7c-434b-9935-5606de72d975"
   },
   "source": [
    "### <a id=\"encoder-decoder-seq2seq\"></a>Encoder, Decoder, & Seq2Seq\n",
    "\n",
    "- **Encoder-only** (like **BERT**): Great for classification, sentence embedding, etc.  \n",
    "- **Decoder-only** (like **GPT**): Autoregressive generation, next-token prediction.  \n",
    "- **Encoder-Decoder** (like **T5**, **BART**): Sequence-to-sequence tasks (translation, summarization).\n",
    "\n",
    "**Why is this powerful?**  \n",
    "- The entire sequence can be processed in **parallel** within each attention block.  \n",
    "- Long-distance dependencies can be learned more easily via attention.\n"
   ]
  },
  {
   "cell_type": "markdown",
   "id": "4d8b1377-9a4f-45b9-b4d4-cf1fbdb6bec0",
   "metadata": {
    "id": "4d8b1377-9a4f-45b9-b4d4-cf1fbdb6bec0"
   },
   "source": [
    "### <a id=\"bert-gpt-t5\"></a>Example: BERT vs. GPT vs. T5\n",
    "\n",
    "1. **BERT (Encoder-based)**:\n",
    "   - Uses **masked language modeling** and **next-sentence prediction** pretraining tasks.\n",
    "   - Great for classification or token-level tasks (NER, QA).\n",
    "2. **GPT (Decoder-based)**:\n",
    "   - Uses **causal (autoregressive) attention** to predict next token.\n",
    "   - Great for text generation.\n",
    "3. **T5 (Encoder-Decoder)**:\n",
    "   - “Text-to-text” framework: everything is cast as a text input → text output problem (translation, summarization, etc.).\n",
    "   - The encoder reads the input, the decoder generates the output.\n"
   ]
  },
  {
   "cell_type": "markdown",
   "id": "065e433c-4037-4370-a033-5dea8f72cbe7",
   "metadata": {
    "id": "065e433c-4037-4370-a033-5dea8f72cbe7"
   },
   "source": [
    "### Exercise 3: Compare Model Families\n",
    "**Goal**:  \n",
    "- Write 1–2 paragraphs explaining a real-world use case for each model class (encoder-only, decoder-only, seq2seq).  \n",
    "- Which tasks do you think an encoder-decoder would excel at, and why?\n",
    "\n",
    "\n",
    "**Possible Answer**\n",
    "\n",
    "1. Encoder-only (BERT-like)\n",
    "\n",
    "    * Use Case: Ideal for tasks that require comprehensive understanding of the input, such as classification (sentiment analysis, topic classification) or token-level tasks (named entity recognition, part-of-speech tagging). The entire input sequence is encoded into contextualized embeddings, which can then be used for classification or other discriminative tasks.\n",
    "\n",
    "2. Decoder-only (GPT-like)\n",
    "\n",
    "    * Use Case: Suited for generative tasks where we produce output tokens one at a time in an autoregressive fashion—like text completion, story generation, or code generation. The model predicts the next token based on previous tokens, making it natural for unidirectional generation.\n",
    "\n",
    "3. Encoder-Decoder (T5, BART)\n",
    "\n",
    "    * Use Case: Best for sequence-to-sequence tasks such as translation, summarization, or question answering where you read an entire input (encoder) and then generate a transformed output (decoder). The encoder provides a context-rich representation, and the decoder attends to that representation while generating the output step by step.\n",
    "\n",
    "\n",
    "_Why is encoder-decoder great for tasks like translation?_\n",
    "\n",
    "Because the encoder can deeply analyze the source sentence in its entirety, while the decoder focuses on generating the target sentence one token at a time, leveraging the encoder's representation for each step."
   ]
  },
  {
   "cell_type": "markdown",
   "id": "7f345164-2311-4b34-a0d8-0c3d28790277",
   "metadata": {
    "id": "7f345164-2311-4b34-a0d8-0c3d28790277"
   },
   "source": [
    "## <a id=\"minimal-transformer\"></a>4. Minimal Transformer Implementation in PyTorch\n",
    "\n",
    "Let’s build **from scratch** a simple Transformer block. We won’t train a full large model here, but we’ll cover essential code for:\n",
    "\n",
    "1. **Positional Encoding**  \n",
    "2. **Multi-Head Self-Attention**  \n",
    "3. **Feed-Forward Network (FFN)**  \n",
    "4. **Putting it together**  \n",
    "\n",
    "*(Note: PyTorch also provides `nn.Transformer` and related layers, but it’s instructive to implement a simplified version for clarity.)*\n"
   ]
  },
  {
   "cell_type": "markdown",
   "id": "b052645b-d7f8-4c6f-9933-5e6227362d1d",
   "metadata": {
    "id": "b052645b-d7f8-4c6f-9933-5e6227362d1d"
   },
   "source": [
    "### <a id=\"pos-enc-scratch\"></a>Positional Encoding from Scratch\n",
    "\n",
    "**Explanation**:\n",
    "- We generate a big matrix for positions up to `max_len`.\n",
    "- We use `sin` and `cos` on even/odd indices to encode position.\n"
   ]
  },
  {
   "cell_type": "code",
   "execution_count": 6,
   "id": "2a83cc2a-72b8-4edc-8fe0-3e4374f4fc96",
   "metadata": {
    "id": "2a83cc2a-72b8-4edc-8fe0-3e4374f4fc96",
    "tags": []
   },
   "outputs": [],
   "source": [
    "import math\n",
    "import torch\n",
    "import torch.nn as nn\n",
    "\n",
    "class PositionalEncoding(nn.Module):\n",
    "    def __init__(self, d_model, max_len=5000):\n",
    "        super().__init__()\n",
    "        # Create a matrix of shape (max_len, d_model)\n",
    "        pe = torch.zeros(max_len, d_model)\n",
    "        position = torch.arange(0, max_len, dtype=torch.float).unsqueeze(1)\n",
    "        div_term = torch.exp(torch.arange(0, d_model, 2).float() * (-math.log(10000.0) / d_model))\n",
    "        pe[:, 0::2] = torch.sin(position * div_term)\n",
    "        pe[:, 1::2] = torch.cos(position * div_term)\n",
    "        # shape => (1, max_len, d_model) so we can broadcast\n",
    "        pe = pe.unsqueeze(0)\n",
    "        self.register_buffer('pe', pe)\n",
    "\n",
    "    def forward(self, x):\n",
    "        \"\"\"\n",
    "        x shape: (batch_size, seq_len, d_model)\n",
    "        \"\"\"\n",
    "        seq_len = x.size(1)\n",
    "        # add in positional encoding\n",
    "        x = x + self.pe[:, :seq_len, :]\n",
    "        return x"
   ]
  },
  {
   "cell_type": "code",
   "execution_count": null,
   "id": "f280278f-7d4f-4183-aac3-fbca22bd22d3",
   "metadata": {
    "colab": {
     "base_uri": "https://localhost:8080/",
     "height": 711
    },
    "id": "f280278f-7d4f-4183-aac3-fbca22bd22d3",
    "outputId": "7d289c44-b3d6-4402-f71b-cb0828657453",
    "tags": []
   },
   "outputs": [],
   "source": [
    "import matplotlib.pyplot as plt\n",
    "import seaborn as sns\n",
    "import numpy as np\n",
    "\n",
    "d_model = 128\n",
    "max_len = 128\n",
    "annot = False\n",
    "\n",
    "fig, ax = plt.subplots(1, 2, sharex=True, sharey=True, figsize=(15, 15))\n",
    "# plt.figure(figsize=(10, 10))\n",
    "\n",
    "pe = PositionalEncoding(d_model=d_model, max_len=max_len)\n",
    "x = torch.zeros(1, max_len, d_model)\n",
    "pos = pe(x)[0].numpy()  # (seq_len, d_model)\n",
    "\n",
    "# sns.heatmap(pos, annot=False, cbar=False, square=True)\n",
    "# plt.gca().axis(\"off\")\n",
    "\n",
    "sns.heatmap(pos, annot=False, cbar=False, square=True, ax=ax[0])\n",
    "sns.heatmap(np.hstack([pos[:, ::2], pos[:, 1::2]]), annot=annot, fmt=r\".3f\", cbar=False, square=True, ax=ax[1])\n",
    "\n",
    "for a in ax:\n",
    "    a.axis(\"off\")\n",
    "\n",
    "plt.tight_layout()"
   ]
  },
  {
   "cell_type": "markdown",
   "id": "a6f0aa63-dbf7-4ec1-9934-c39070cb418f",
   "metadata": {
    "id": "a6f0aa63-dbf7-4ec1-9934-c39070cb418f"
   },
   "source": [
    "### <a id=\"simple-transformer-block\"></a>Building a Simple Transformer Block\n",
    "\n",
    "**Notes**:  \n",
    "- The `mask` argument can be used for causal masking in a decoder or padding masking in an encoder.  \n",
    "- We apply **residual connections** and **layer normalization** after each sublayer, as in the original Transformer.\n"
   ]
  },
  {
   "cell_type": "code",
   "execution_count": 8,
   "id": "5d2a6328-eb0d-4d45-bb87-0f8ed4ac38d0",
   "metadata": {
    "id": "5d2a6328-eb0d-4d45-bb87-0f8ed4ac38d0",
    "tags": []
   },
   "outputs": [],
   "source": [
    "class MultiHeadSelfAttention(nn.Module):\n",
    "    def __init__(self, d_model, num_heads):\n",
    "        super().__init__()\n",
    "        assert d_model % num_heads == 0\n",
    "        self.d_model = d_model\n",
    "        self.num_heads = num_heads\n",
    "        self.d_k = d_model // num_heads\n",
    "\n",
    "        self.linear_q = nn.Linear(d_model, d_model)\n",
    "        self.linear_k = nn.Linear(d_model, d_model)\n",
    "        self.linear_v = nn.Linear(d_model, d_model)\n",
    "        self.linear_out = nn.Linear(d_model, d_model)\n",
    "\n",
    "    def forward(self, x, mask=None):\n",
    "        # x: (batch_size, seq_len, d_model)\n",
    "        B, T, _ = x.size()\n",
    "\n",
    "        Q = self.linear_q(x).view(B, T, self.num_heads, self.d_k)\n",
    "        K = self.linear_k(x).view(B, T, self.num_heads, self.d_k)\n",
    "        V = self.linear_v(x).view(B, T, self.num_heads, self.d_k)\n",
    "\n",
    "        # permute => (batch_size, num_heads, seq_len, d_k)\n",
    "        Q = Q.permute(0, 2, 1, 3)\n",
    "        K = K.permute(0, 2, 1, 3)\n",
    "        V = V.permute(0, 2, 1, 3)\n",
    "\n",
    "        # scaled dot-product attention\n",
    "        scores = torch.matmul(Q, K.transpose(-2, -1)) / math.sqrt(self.d_k)\n",
    "        if mask is not None:\n",
    "            scores = scores.masked_fill(mask == 0, -1e9)\n",
    "\n",
    "        attn = torch.softmax(scores, dim=-1)\n",
    "        out = torch.matmul(attn, V)  # shape => (batch_size, num_heads, seq_len, d_k)\n",
    "\n",
    "        # reshape back\n",
    "        out = out.permute(0, 2, 1, 3).contiguous()\n",
    "        out = out.view(B, T, self.d_model)\n",
    "        out = self.linear_out(out)\n",
    "        return out\n",
    "\n",
    "class TransformerBlock(nn.Module):\n",
    "    def __init__(self, d_model, num_heads, dim_feedforward=2048, dropout=0.1):\n",
    "        super().__init__()\n",
    "        self.attn = MultiHeadSelfAttention(d_model, num_heads)\n",
    "        self.norm1 = nn.LayerNorm(d_model)\n",
    "        self.ff = nn.Sequential(\n",
    "            nn.Linear(d_model, dim_feedforward),\n",
    "            nn.ReLU(),\n",
    "            nn.Linear(dim_feedforward, d_model),\n",
    "        )\n",
    "        self.norm2 = nn.LayerNorm(d_model)\n",
    "        self.dropout = nn.Dropout(dropout)\n",
    "\n",
    "    def forward(self, x, mask=None):\n",
    "        # 1) Self-attention + residual\n",
    "        # x = self.norm1(x)  # Pre-Norm\n",
    "        attn_out = self.attn(x, mask)\n",
    "        x = x + self.dropout(attn_out)\n",
    "        x = self.norm1(x)  # Post-Norm\n",
    "        \n",
    "        # x = self.norm2(x)  # Pre-Norm\n",
    "        # 2) Feed-forward + residual\n",
    "        ff_out = self.ff(x)\n",
    "        x = x + self.dropout(ff_out)\n",
    "        x = self.norm2(x)  # Post-Norm\n",
    "\n",
    "        return x"
   ]
  },
  {
   "cell_type": "markdown",
   "id": "dcb3d18a-91f6-4c09-9790-b6cacbed9ec4",
   "metadata": {
    "id": "dcb3d18a-91f6-4c09-9790-b6cacbed9ec4"
   },
   "source": [
    "### Putting It All Together in a Minimal Encoder\n",
    "\n",
    "This is a *very* simplified version of an **encoder**. A **decoder** would also incorporate a second attention block that attends to the encoder output.\n"
   ]
  },
  {
   "cell_type": "code",
   "execution_count": 9,
   "id": "8a1f564b-69e7-414a-b7f1-4e98655c6bc8",
   "metadata": {
    "id": "8a1f564b-69e7-414a-b7f1-4e98655c6bc8",
    "tags": []
   },
   "outputs": [],
   "source": [
    "class SimpleTransformerEncoder(nn.Module):\n",
    "    def __init__(self, vocab_size, d_model=128, num_heads=4, num_layers=2, max_len=5000):\n",
    "        super().__init__()\n",
    "        self.embedding = nn.Embedding(vocab_size, d_model)\n",
    "        self.pos_encoding = PositionalEncoding(d_model, max_len)\n",
    "\n",
    "        self.layers = nn.ModuleList([\n",
    "            TransformerBlock(d_model, num_heads) for _ in range(num_layers)\n",
    "        ])\n",
    "\n",
    "    def forward(self, x, mask=None):\n",
    "        # x shape: (batch_size, seq_len)\n",
    "        embedded = self.embedding(x)   # => (batch_size, seq_len, d_model)\n",
    "        embedded = self.pos_encoding(embedded)\n",
    "\n",
    "        out = embedded\n",
    "        for layer in self.layers:\n",
    "            out = layer(out, mask)\n",
    "        return out"
   ]
  },
  {
   "cell_type": "markdown",
   "id": "87e9c56c-fc29-453c-8fd9-83371972ace4",
   "metadata": {
    "id": "87e9c56c-fc29-453c-8fd9-83371972ace4"
   },
   "source": [
    "\n",
    "### <a id=\"visualizing-attention\"></a>Visualizing Attention Weights\n",
    "\n",
    "To visualize attention:\n",
    "1. Modify `MultiHeadSelfAttention` to **return** the `attn` (attention weights).  \n",
    "2. Plot them using a heatmap (e.g., `matplotlib.seaborn.heatmap`)."
   ]
  },
  {
   "cell_type": "code",
   "execution_count": 10,
   "id": "74699482-54ba-4c2a-b6fd-271259015a09",
   "metadata": {
    "id": "74699482-54ba-4c2a-b6fd-271259015a09",
    "tags": []
   },
   "outputs": [],
   "source": [
    "# Quick demonstration of capturing attention\n",
    "class MultiHeadSelfAttentionReturnWeights(MultiHeadSelfAttention):\n",
    "    def forward(self, x, mask=None):\n",
    "        B, T, _ = x.size()\n",
    "\n",
    "        Q = self.linear_q(x).view(B, T, self.num_heads, self.d_k).permute(0, 2, 1, 3)\n",
    "        K = self.linear_k(x).view(B, T, self.num_heads, self.d_k).permute(0, 2, 1, 3)\n",
    "        V = self.linear_v(x).view(B, T, self.num_heads, self.d_k).permute(0, 2, 1, 3)\n",
    "\n",
    "        scores = torch.matmul(Q, K.transpose(-2, -1)) / math.sqrt(self.d_k)\n",
    "        if mask is not None:\n",
    "            scores = scores.masked_fill(mask == 0, -1e9)\n",
    "\n",
    "        attn = torch.softmax(scores, dim=-1)\n",
    "        out = torch.matmul(attn, V)\n",
    "\n",
    "        out = out.permute(0, 2, 1, 3).contiguous().view(B, T, self.d_model)\n",
    "        out = self.linear_out(out)\n",
    "        return out, attn\n",
    "\n",
    "# Then, in your code, replace the old attention with \"ReturnWeights\" variant and visualize.\n"
   ]
  },
  {
   "cell_type": "markdown",
   "id": "66e1eed6-765f-4796-9fe6-fe8ee7d52b63",
   "metadata": {
    "id": "66e1eed6-765f-4796-9fe6-fe8ee7d52b63"
   },
   "source": [
    "### Exercise 4: Simple Transformer Tests\n",
    "1. **Implement** the attention-weight-return version above.  \n",
    "2. Pass a small batch (like random token IDs) through the encoder.  \n",
    "3. Plot the attention heatmap for each head.  \n",
    "4. Observe how each head “pays attention” to different positions in the sequence.\n",
    "\n",
    "\n",
    "**Possible Answer**\n",
    "\n",
    "* Each row corresponds to how the query token attends to others.\n",
    "* Each column corresponds to a key token.\n",
    "* If certain squares have high values, that means the query token “pays attention” to that particular key token."
   ]
  },
  {
   "cell_type": "code",
   "execution_count": 11,
   "id": "IyyCAnzzuJVL",
   "metadata": {
    "colab": {
     "base_uri": "https://localhost:8080/",
     "height": 803
    },
    "id": "IyyCAnzzuJVL",
    "outputId": "b80b3133-e3b1-4634-b01a-05e116ee3484",
    "tags": []
   },
   "outputs": [
    {
     "data": {
      "image/png": "[encoded data removed]",
      "text/plain": [
       "<Figure size 600x400 with 2 Axes>"
      ]
     },
     "metadata": {},
     "output_type": "display_data"
    },
    {
     "data": {
      "image/png": "[encoded data removed]",
      "text/plain": [
       "<Figure size 600x400 with 2 Axes>"
      ]
     },
     "metadata": {},
     "output_type": "display_data"
    }
   ],
   "source": [
    "import matplotlib.pyplot as plt\n",
    "import seaborn as sns\n",
    "\n",
    "# Suppose we have embeddings of shape (batch_size=1, seq_len=4, d_model=8)\n",
    "x_fake = torch.randn(1, 4, 8)\n",
    "attn_module = MultiHeadSelfAttentionReturnWeights(d_model=8, num_heads=2)\n",
    "output, attention_weights = attn_module(x_fake)\n",
    "\n",
    "# attention_weights shape => (1, num_heads=2, seq_len=4, seq_len=4)\n",
    "attn_head_1 = attention_weights[0, 0].detach().numpy()  # shape (4,4)\n",
    "attn_head_2 = attention_weights[0, 1].detach().numpy()  # shape (4,4)\n",
    "\n",
    "# Plot head 1\n",
    "plt.figure(figsize=(6,4))\n",
    "sns.heatmap(attn_head_1, annot=True, cmap=\"Blues\")\n",
    "plt.title(\"Attention Head 1\")\n",
    "plt.xlabel(\"Key Positions\")\n",
    "plt.ylabel(\"Query Positions\")\n",
    "plt.show()\n",
    "\n",
    "# Plot head 2\n",
    "plt.figure(figsize=(6,4))\n",
    "sns.heatmap(attn_head_2, annot=True, cmap=\"Reds\")\n",
    "plt.title(\"Attention Head 2\")\n",
    "plt.xlabel(\"Key Positions\")\n",
    "plt.ylabel(\"Query Positions\")\n",
    "plt.show()\n"
   ]
  },
  {
   "cell_type": "markdown",
   "id": "c74ea9e8-b512-471f-becb-9ac46c111af8",
   "metadata": {
    "id": "c74ea9e8-b512-471f-becb-9ac46c111af8"
   },
   "source": [
    "## <a id=\"brief-preprocessing\"></a>5. (Optional) Brief Notes on Data Preprocessing\n",
    "\n",
    "While the **focus** of this session is modeling, recall from previous sessions that **preprocessing** for Transformers typically involves **subword tokenization** (e.g., BPE or WordPiece), special tokens (like `[CLS]`, `[SEP]`), and attention masks for padding. Tools like **Hugging Face**’s `transformers` and `tokenizers` libraries handle these details seamlessly.\n"
   ]
  },
  {
   "cell_type": "markdown",
   "id": "6eea5e3d-90d1-4963-aaf9-87a68ff3718a",
   "metadata": {
    "id": "6eea5e3d-90d1-4963-aaf9-87a68ff3718a"
   },
   "source": [
    "## <a id=\"training-transformer\"/>6. (Optional) Training a Simple Transformer Decoder for Causal Language Modeling\n",
    "\n",
    "In this optional section, we’ll demonstrate how to train a **Transformer Decoder** in a **causal language modeling** setup (like GPT). We’ll use a **tiny Shakespeare** dataset to keep things manageable. The key ideas are:\n",
    "\n",
    "1. **Decoder-Only Architecture**: We only stack self-attention blocks, no separate encoder.  \n",
    "2. **Causal Mask (Triangular Mask)**: Ensures each token only attends to itself and previous tokens, not future ones.  \n",
    "3. **Next-Token Prediction**: At each time step, predict the *next* character (or token).\n",
    "\n",
    "Below is a step-by-step guide and a minimal code outline.\n"
   ]
  },
  {
   "cell_type": "markdown",
   "id": "86b50364-aba4-48af-b0db-daa1a8203c85",
   "metadata": {
    "id": "86b50364-aba4-48af-b0db-daa1a8203c85"
   },
   "source": [
    "### A. Preparing a Tiny Shakespeare Dataset\n",
    "\n",
    "For demonstration, assume you have a file named `tiny_shakespeare.txt` (you can get a version from [Andrej Karpathy’s repo](https://github.com/karpathy/char-rnn) or anywhere else). Let’s read it in and do a simple **character-level** approach:\n",
    "\n",
    "\n",
    "**Note**: For a more advanced approach, you could use subword tokenization. But character-level is straightforward for a small dataset.\n"
   ]
  },
  {
   "cell_type": "code",
   "execution_count": 12,
   "id": "Zkb3WTL40W6o",
   "metadata": {
    "id": "Zkb3WTL40W6o",
    "tags": []
   },
   "outputs": [],
   "source": [
    "# !wget https://raw.githubusercontent.com/karpathy/char-rnn/master/data/tinyshakespeare/input.txt -O tiny_shakespeare.txt"
   ]
  },
  {
   "cell_type": "code",
   "execution_count": 13,
   "id": "a47d30fd-d5ca-486f-9195-c95b00a394f5",
   "metadata": {
    "colab": {
     "base_uri": "https://localhost:8080/",
     "height": 211
    },
    "id": "a47d30fd-d5ca-486f-9195-c95b00a394f5",
    "outputId": "6e5fd224-3f52-4076-f403-85dddc4d7378",
    "tags": []
   },
   "outputs": [
    {
     "name": "stdout",
     "output_type": "stream",
     "text": [
      "Corpus length: 1115394\n",
      "Vocabulary size: 65\n"
     ]
    }
   ],
   "source": [
    "import torch\n",
    "import torch.nn as nn\n",
    "from torch.utils.data import Dataset, DataLoader\n",
    "import math\n",
    "\n",
    "# 1) Load a small Shakespeare corpus\n",
    "with open(\"tiny_shakespeare.txt\", \"r\", encoding=\"utf-8\") as f:\n",
    "    text = f.read()\n",
    "\n",
    "print(\"Corpus length:\", len(text))\n",
    "\n",
    "# 2) Build a character-level vocab\n",
    "chars = sorted(list(set(text)))\n",
    "vocab_size = len(chars)\n",
    "char2idx = {ch: i for i, ch in enumerate(chars)}\n",
    "idx2char = {i: ch for ch, i in char2idx.items()}\n",
    "\n",
    "print(f\"Vocabulary size: {vocab_size}\")\n",
    "\n",
    "# Convert text to indices\n",
    "data = [char2idx[ch] for ch in text]\n",
    "data_tensor = torch.tensor(data, dtype=torch.long)\n",
    "\n",
    "# Let's define some hyperparameters\n",
    "seq_length = 64  # chunk size\n",
    "batch_size = 32"
   ]
  },
  {
   "cell_type": "markdown",
   "id": "0f447a55-60a7-424c-a082-372e27bbc403",
   "metadata": {
    "id": "0f447a55-60a7-424c-a082-372e27bbc403"
   },
   "source": [
    "\n",
    "### B. Creating a Causal LM Dataset\n",
    "\n",
    "We want each sequence to predict the *next* character for each position. So if our sequence is $[x_0, x_1, ..., x_{t}]$, we want to predict $[x_1, x_2, ..., x_{t+1}]$. We can store them as `(input_seq, target_seq)` pairs.\n",
    "\n",
    "Here, `x_seq[i]` should predict `y_seq[i]`, shifting by one character.\n"
   ]
  },
  {
   "cell_type": "code",
   "execution_count": 14,
   "id": "8e20e759-cff9-475f-957e-34f522441003",
   "metadata": {
    "id": "8e20e759-cff9-475f-957e-34f522441003",
    "outputId": "e0658747-4303-43de-bdaf-5af3e746cad4",
    "tags": []
   },
   "outputs": [
    {
     "name": "stdout",
     "output_type": "stream",
     "text": [
      "Num batches: 544\n"
     ]
    }
   ],
   "source": [
    "class ShakespeareCharDataset(Dataset):\n",
    "    def __init__(self, data_tensor, seq_length=64):\n",
    "        self.data = data_tensor\n",
    "        self.seq_length = seq_length\n",
    "        # We'll create as many full chunks as possible\n",
    "        self.num_samples = len(self.data) // seq_length - 1\n",
    "\n",
    "    def __len__(self):\n",
    "        return self.num_samples\n",
    "\n",
    "    def __getitem__(self, idx):\n",
    "        start = idx * self.seq_length\n",
    "        x_seq = self.data[start : start + self.seq_length]\n",
    "        y_seq = self.data[start + 1 : start + self.seq_length + 1]\n",
    "        return x_seq, y_seq\n",
    "\n",
    "dataset = ShakespeareCharDataset(data_tensor, seq_length=seq_length)\n",
    "dataloader = DataLoader(dataset, batch_size=batch_size, shuffle=True, drop_last=True)\n",
    "print(\"Num batches:\", len(dataloader))"
   ]
  },
  {
   "cell_type": "markdown",
   "id": "54c3fc2d-fc36-4623-80e1-c2766e235088",
   "metadata": {
    "id": "54c3fc2d-fc36-4623-80e1-c2766e235088"
   },
   "source": [
    "\n",
    "### C. Building a Causal Decoder Model\n",
    "\n",
    "We’ll adapt our **TransformerBlock** for a **decoder-only** scenario. The main difference is applying a **causal mask** so tokens cannot attend to future positions.\n",
    "\n",
    "#### 1. Causal Mask Function\n",
    "\n",
    "A common technique is to create a **triangular** attention mask of shape `(seq_length, seq_length)` where positions `j > i` are masked out."
   ]
  },
  {
   "cell_type": "code",
   "execution_count": 15,
   "id": "01cf5175-ea7c-4f89-af0c-ac3eb20ee7a3",
   "metadata": {
    "id": "01cf5175-ea7c-4f89-af0c-ac3eb20ee7a3",
    "tags": []
   },
   "outputs": [],
   "source": [
    "def generate_causal_mask(seq_length):\n",
    "    \"\"\"\n",
    "    Returns a (seq_length, seq_length) mask,\n",
    "    where positions j>i are set to False (meaning \"do not attend\").\n",
    "    \"\"\"\n",
    "    # shape (seq_length, seq_length)\n",
    "    mask = torch.tril(torch.ones(seq_length, seq_length)).bool()\n",
    "    return mask  # True means \"allowed to attend\"\n"
   ]
  },
  {
   "cell_type": "markdown",
   "id": "7f0b390a-92dd-4215-840d-4cc7eec561e3",
   "metadata": {
    "id": "7f0b390a-92dd-4215-840d-4cc7eec561e3"
   },
   "source": [
    "\n",
    "#### 2. Simple DecoderBlock\n",
    "\n",
    "We can reuse a similar block to our earlier `TransformerBlock`, but we’ll clarify the self-attention is **causal**.\n",
    "\n",
    "*(We’re assuming the `MultiHeadSelfAttention` class from the prior session or snippet, which can apply `mask` to the `scores`.)*\n"
   ]
  },
  {
   "cell_type": "code",
   "execution_count": 16,
   "id": "60614eb3-d3c6-4c57-aed6-0f419b5d741b",
   "metadata": {
    "id": "60614eb3-d3c6-4c57-aed6-0f419b5d741b",
    "tags": []
   },
   "outputs": [],
   "source": [
    "\n",
    "class DecoderBlock(nn.Module):\n",
    "    def __init__(self, d_model, num_heads, dim_feedforward=2048, dropout=0.1):\n",
    "        super().__init__()\n",
    "        self.attn = MultiHeadSelfAttention(d_model, num_heads)\n",
    "        self.norm1 = nn.LayerNorm(d_model)\n",
    "        self.ff = nn.Sequential(\n",
    "            nn.Linear(d_model, dim_feedforward),\n",
    "            nn.ReLU(),\n",
    "            nn.Linear(dim_feedforward, d_model),\n",
    "        )\n",
    "        self.norm2 = nn.LayerNorm(d_model)\n",
    "        self.dropout = nn.Dropout(dropout)\n",
    "\n",
    "    def forward(self, x, mask=None):\n",
    "        # 1) Causal self-attention + residual\n",
    "        attn_out = self.attn(x, mask=mask)\n",
    "        x = x + self.dropout(attn_out)\n",
    "        x = self.norm1(x)\n",
    "\n",
    "        # 2) Feed-forward + residual\n",
    "        ff_out = self.ff(x)\n",
    "        x = x + self.dropout(ff_out)\n",
    "        x = self.norm2(x)\n",
    "\n",
    "        return x"
   ]
  },
  {
   "cell_type": "markdown",
   "id": "a74b9198-f14f-42f8-8d5a-01dba20c9ac5",
   "metadata": {
    "id": "a74b9198-f14f-42f8-8d5a-01dba20c9ac5"
   },
   "source": [
    "\n",
    "#### 3. Decoder Model\n",
    "\n",
    "We can define a small model that:\n",
    "1. Embeds characters,\n",
    "2. Adds positional encoding,\n",
    "3. Stacks `DecoderBlock` layers,\n",
    "4. Outputs logits over the vocabulary at each time step.\n",
    "\n",
    "Note how we generate the `causal_mask(T,T)` and pass it along so each token can’t attend to future positions.\n"
   ]
  },
  {
   "cell_type": "code",
   "execution_count": 17,
   "id": "cf3f6223-fed9-476b-ae78-db78c154b7f4",
   "metadata": {
    "id": "cf3f6223-fed9-476b-ae78-db78c154b7f4",
    "tags": []
   },
   "outputs": [],
   "source": [
    "\n",
    "class CausalTransformerDecoder(nn.Module):\n",
    "    def __init__(self, vocab_size, d_model=128, num_heads=4, num_layers=2, max_len=512):\n",
    "        super().__init__()\n",
    "        self.embedding = nn.Embedding(vocab_size, d_model)\n",
    "        self.pos_encoding = PositionalEncoding(d_model, max_len)\n",
    "\n",
    "        self.layers = nn.ModuleList([\n",
    "            DecoderBlock(d_model, num_heads) for _ in range(num_layers)\n",
    "        ])\n",
    "        self.fc_out = nn.Linear(d_model, vocab_size)\n",
    "\n",
    "    def forward(self, x):\n",
    "        \"\"\"\n",
    "        x: (batch_size, seq_length) of token indices\n",
    "        returns: (batch_size, seq_length, vocab_size)\n",
    "        \"\"\"\n",
    "        B, T = x.size()\n",
    "        # Embeddings + positions\n",
    "        embed = self.embedding(x)  # (B, T, d_model)\n",
    "        embed = self.pos_encoding(embed)  # add positional info\n",
    "\n",
    "        # Generate causal mask (for each batch, we broadcast the same mask)\n",
    "        mask = generate_causal_mask(T).to(x.device)  # (T, T)\n",
    "\n",
    "        out = embed\n",
    "        for layer in self.layers:\n",
    "            out = layer(out, mask=mask)\n",
    "\n",
    "        # Predict next char at each position\n",
    "        logits = self.fc_out(out)  # (B, T, vocab_size)\n",
    "        return logits\n"
   ]
  },
  {
   "cell_type": "markdown",
   "id": "7325cea6-4e6a-40f6-8466-b391ca258715",
   "metadata": {
    "id": "7325cea6-4e6a-40f6-8466-b391ca258715"
   },
   "source": [
    "\n",
    "### D. Training Loop\n",
    "\n",
    "We’ll do **cross-entropy** on each position’s next-char prediction.\n",
    "\n",
    "For a small dataset (like `tiny_shakespeare.txt`), you might want more epochs or a smaller `d_model`. The final model can then do **character-level generation** using a standard autoregressive approach:\n"
   ]
  },
  {
   "cell_type": "code",
   "execution_count": 18,
   "id": "c2527c62-f80b-4be3-bd3e-a38fb570e0b2",
   "metadata": {},
   "outputs": [
    {
     "name": "stdout",
     "output_type": "stream",
     "text": [
      "Using device: cpu\n"
     ]
    }
   ],
   "source": [
    "import torch.optim as optim\n",
    "\n",
    "device = \"cuda\" if torch.cuda.is_available() else \"cpu\"\n",
    "print(\"Using device:\", device)\n",
    "\n",
    "model = CausalTransformerDecoder(vocab_size, d_model=512, num_heads=4, num_layers=3)\n",
    "model.to(device)\n",
    "\n",
    "criterion = nn.CrossEntropyLoss()\n",
    "optimizer = optim.Adam(model.parameters(), lr=1e-3)"
   ]
  },
  {
   "cell_type": "code",
   "execution_count": 19,
   "id": "ddcbb0b3-0726-4ffb-b0ab-113fc0a203b0",
   "metadata": {
    "tags": []
   },
   "outputs": [
    {
     "name": "stdout",
     "output_type": "stream",
     "text": [
      "Number of parameters: 9,523,777\n"
     ]
    }
   ],
   "source": [
    "total_params = 0\n",
    "for param in model.parameters():\n",
    "    total_params += param.numel()\n",
    "\n",
    "print(f\"Number of parameters: {total_params:,}\")"
   ]
  },
  {
   "cell_type": "code",
   "execution_count": 20,
   "id": "6fe2517f-8b1c-4031-bf6a-699f3e63c9b4",
   "metadata": {
    "id": "6fe2517f-8b1c-4031-bf6a-699f3e63c9b4",
    "outputId": "bf05d6d6-24b5-4e68-d17f-9f930ad32c07"
   },
   "outputs": [
    {
     "name": "stdout",
     "output_type": "stream",
     "text": [
      "Epoch 1/1, Loss: 2.1153\n",
      "CPU times: user 1h 40min 29s, sys: 3min 12s, total: 1h 43min 41s\n",
      "Wall time: 13min\n"
     ]
    }
   ],
   "source": [
    "%%time\n",
    "\n",
    "\n",
    "epochs = 1\n",
    "\n",
    "for epoch in range(epochs):\n",
    "    model.train()\n",
    "    total_loss = 0\n",
    "\n",
    "    for x_seq, y_seq in dataloader:\n",
    "        x_seq, y_seq = x_seq.to(device), y_seq.to(device)\n",
    "\n",
    "        optimizer.zero_grad()\n",
    "        # logits: (batch_size, seq_length, vocab_size)\n",
    "        logits = model(x_seq)\n",
    "\n",
    "        # reshape for cross-entropy\n",
    "        # we want (batch_size*seq_length, vocab_size) vs. (batch_size*seq_length)\n",
    "        logits_reshaped = logits.view(-1, vocab_size)\n",
    "        targets_reshaped = y_seq.view(-1)\n",
    "\n",
    "        loss = criterion(logits_reshaped, targets_reshaped)\n",
    "        loss.backward()\n",
    "        optimizer.step()\n",
    "\n",
    "        total_loss += loss.item()\n",
    "\n",
    "    avg_loss = total_loss / len(dataloader)\n",
    "    print(f\"Epoch {epoch+1}/{epochs}, Loss: {avg_loss:.4f}\")"
   ]
  },
  {
   "cell_type": "markdown",
   "id": "cc0ff4fe-6fdb-44d4-b63f-59549a4b1ff9",
   "metadata": {
    "id": "cc0ff4fe-6fdb-44d4-b63f-59549a4b1ff9"
   },
   "source": [
    "\n",
    "### E. Generating Shakespeare-Like Text\n",
    "\n",
    "After training, you can generate text:\n",
    "\n",
    "**Notes**:\n",
    "- Adjust `temperature` for more or less randomness.\n",
    "- If the dataset is tiny, results may still be partially gibberish. You can experiment with more epochs or a bigger model dimension.\n"
   ]
  },
  {
   "cell_type": "code",
   "execution_count": 21,
   "id": "c98a64d5-8e6c-4eb4-9274-95a45c010156",
   "metadata": {
    "id": "c98a64d5-8e6c-4eb4-9274-95a45c010156",
    "outputId": "8acc4566-a7d8-4aea-a4ef-fb3227b67362"
   },
   "outputs": [
    {
     "name": "stdout",
     "output_type": "stream",
     "text": [
      "Generated:\n",
      " ROMEO:\n",
      "I'll it; how, he'st the speak'st lockle comble.\n",
      "\n",
      "KING EDWARRRS LLL\n",
      "\n",
      "\n",
      "\n",
      "\n",
      "\n",
      "\n",
      "WICH:\n",
      "WAR, L L ch RS V L M V HARUS LL LLLO:\n",
      "LLLLO:\n",
      "\n",
      "\n",
      "\n",
      "\n",
      "O:\n",
      "ARG L loulouliloulorongeloulaloulouloune'lon R L LO:\n",
      "\n",
      "\n",
      "\n",
      "\n",
      "\n",
      "\n",
      "\n",
      "S F laroulixele'land LLLLO:\n",
      "\n",
      "\n",
      "\n",
      "\n",
      "\n",
      "\n",
      "\n",
      "\n",
      "\n",
      "\n",
      "\n",
      "\n",
      "\n",
      "\n",
      "\n",
      "\n",
      "\n",
      "\n",
      "\n",
      "\n",
      "\n",
      "\n",
      "\n",
      "\n",
      "\n",
      "\n",
      "IC V O:\n",
      "\n",
      "\n",
      "\n",
      "\n",
      "\n",
      "\n",
      "\n",
      "\n",
      "PRS V:\n",
      "\n",
      "\n",
      "\n",
      "\n",
      "\n",
      "\n",
      "\n",
      "\n",
      "\n",
      "\n",
      "\n",
      "\n",
      "\n",
      "\n",
      "\n",
      "Y lorelin LARG O\n"
     ]
    }
   ],
   "source": [
    "\n",
    "def generate_text(model, start_str=\"ROMEO:\", max_new_tokens=200, temperature=1.0):\n",
    "    model.eval()\n",
    "    # Convert start_str to indices\n",
    "    input_ids = torch.tensor([char2idx[ch] for ch in start_str], dtype=torch.long).unsqueeze(0).to(device)\n",
    "\n",
    "    # We'll generate token by token\n",
    "    for _ in range(max_new_tokens):\n",
    "        # Get logits for the last token\n",
    "        logits = model(input_ids)  # shape: (1, seq_len, vocab_size)\n",
    "        logits = logits[:, -1, :]  # only the last time step\n",
    "        logits = logits / temperature\n",
    "\n",
    "        probs = torch.softmax(logits, dim=-1)\n",
    "        next_id = torch.multinomial(probs, 1).item()\n",
    "\n",
    "        # Append to sequence\n",
    "        input_ids = torch.cat([input_ids, torch.tensor([[next_id]], device=device)], dim=1)\n",
    "\n",
    "    # Convert back to characters\n",
    "    generated_seq = [idx2char[t.item()] for t in input_ids[0]]\n",
    "    return \"\".join(generated_seq)\n",
    "\n",
    "sample_output = generate_text(model, start_str=\"ROMEO:\", max_new_tokens=300, temperature=0.8)\n",
    "print(\"Generated:\\n\", sample_output)\n",
    "\n"
   ]
  },
  {
   "cell_type": "markdown",
   "id": "d03ebe01-4eaa-4978-8a73-6ce9b35c9b7f",
   "metadata": {
    "id": "d03ebe01-4eaa-4978-8a73-6ce9b35c9b7f"
   },
   "source": [
    "\n",
    "### Summary of This Optional Section\n",
    "\n",
    "- We showed a **decoder-only Transformer** for **causal language modeling**.\n",
    "- We used a **triangular mask** to prevent each token from attending to future positions.\n",
    "- We trained it on a **tiny Shakespeare** dataset with a **character-level** approach.\n",
    "\n",
    "**Advantages**:\n",
    "- This approach is the conceptual basis for **GPT-like** models (decoder-based Transformers).\n",
    "- You can scale up the same logic for bigger datasets and more layers.\n",
    "\n",
    "Feel free to explore:\n",
    "- **Subword tokenization** for improved text quality.  \n",
    "- **More layers** or bigger hidden dimensions.  \n",
    "- **Longer training** if you have the resources."
   ]
  },
  {
   "cell_type": "markdown",
   "id": "f84453e1-b366-4bda-828c-3ebc608a945e",
   "metadata": {
    "id": "f84453e1-b366-4bda-828c-3ebc608a945e"
   },
   "source": [
    "## <a id=\"conclusion\"></a>7. Conclusion\n",
    "\n",
    "**Key Takeaways**:\n",
    "1. **Self-Attention** provides a parallelizable mechanism that can handle **long-distance dependencies** better than RNNs.  \n",
    "2. **Multi-Head** setups capture different relational aspects simultaneously.  \n",
    "3. **Positional Encodings** introduce sequence order into an otherwise order-agnostic attention mechanism.  \n",
    "4. Transformers come in **encoder-only** (BERT), **decoder-only** (GPT), and **encoder-decoder** (T5) variants, each suited for different tasks.\n",
    "\n",
    "With the knowledge from **Session 2 (RNNs)** and **Session 3 (Transformers)**, you’re now well-equipped to:\n",
    "- **Implement** or **fine-tune** these models.\n",
    "- **Explore** how attention reveals interpretability.\n",
    "- **Optimize** training for large-scale tasks (though we didn’t dive deeply into that here).\n"
   ]
  },
  {
   "cell_type": "markdown",
   "id": "5670d47a-a20c-4ba1-a4a4-c9128603669a",
   "metadata": {
    "id": "5670d47a-a20c-4ba1-a4a4-c9128603669a"
   },
   "source": [
    "---"
   ]
  },
  {
   "cell_type": "markdown",
   "id": "e0b51f59-0c0f-413e-a0a2-f825312d9b5d",
   "metadata": {
    "id": "e0b51f59-0c0f-413e-a0a2-f825312d9b5d"
   },
   "source": [
    "# Fun: Train a ~Shakespearean~ CN Transformer Model"
   ]
  },
  {
   "cell_type": "code",
   "execution_count": 22,
   "id": "966d30e8-4c58-4d9e-9b72-66b0b95d36c8",
   "metadata": {
    "id": "966d30e8-4c58-4d9e-9b72-66b0b95d36c8"
   },
   "outputs": [],
   "source": [
    "import os\n",
    "import urllib.request\n",
    "import urllib.parse\n",
    "\n",
    "DATA_PATH = os.path.join(REPOPATH, \"cnbook\")\n",
    "os.makedirs(DATA_PATH, exist_ok=True)\n",
    "\n",
    "BASE_URL = \"https://raw.githubusercontent.com/aboutjm/Automation/master/book/%5B三体1-3%2B三体X修订增补%5DTXT精校版.刘慈欣/\"\n",
    "filelist = [\n",
    "    \"三体1疯狂年代.txt\",\n",
    "    \"三体2黑暗森林.txt\",\n",
    "    \"三体3死神永生.txt\",\n",
    "    \"三体X修订增补版.txt\",\n",
    "]\n",
    "\n",
    "filepaths = []\n",
    "\n",
    "for idx, f in enumerate(filelist):\n",
    "    url = BASE_URL + f\n",
    "    encoded_url = urllib.parse.quote(url, safe=':/%')\n",
    "    file_path = os.path.join(DATA_PATH, f\"file{idx}.txt\")\n",
    "    if not os.path.exists(file_path):\n",
    "        print(f\"Downloading {encoded_url}...\")\n",
    "        !wget $encoded_url -O $file_path -q\n",
    "    filepaths.append(file_path)\n"
   ]
  },
  {
   "cell_type": "code",
   "execution_count": 23,
   "id": "4feace96-9dca-4d10-8701-0432f1cf3d00",
   "metadata": {
    "tags": []
   },
   "outputs": [],
   "source": [
    "import re\n",
    "\n",
    "texts = []\n",
    "\n",
    "for fpath in filepaths:\n",
    "    with open(fpath, \"r\", encoding=\"gbk\") as f:\n",
    "        text = f.read()\n",
    "        texts.append(text)\n",
    "merged_text = \"\\n\\n\".join(texts)\n",
    "\n",
    "# Cleanup: Replace \\u3000 with space\n",
    "merged_text = merged_text.replace(\"\\u3000\", \" \")\n",
    "# Cleanup: Replace “ and ” with \"\n",
    "merged_text = merged_text.replace(\"“\", '\"')\n",
    "merged_text = merged_text.replace(\"”\", '\"')\n",
    "# Cleanup: Replace double blank characters with a single ones\n",
    "# merged_text = merged_text.replace(\"  \", \" \")\n",
    "merged_text = re.sub(r\"[ ]+\", \" \", merged_text)\n",
    "merged_text = re.sub(r\"[\\t]+\", \"\\t\", merged_text)\n",
    "merged_text = re.sub(r\"[\\n]+\", \"\\n\", merged_text)"
   ]
  },
  {
   "cell_type": "code",
   "execution_count": 24,
   "id": "95bcaf58-e9de-49c5-917f-e06f19d60750",
   "metadata": {
    "tags": []
   },
   "outputs": [
    {
     "name": "stdout",
     "output_type": "stream",
     "text": [
      "Unique chars found: 3772\n",
      "Example of characters (top): ['，', '的', '。', '\"', '一', ' ', '是', '\\n', '了', '在', '这', '不', '个', '有', '他', '人', '到', '中', '们', '我', '上', '地', '时', '来', '那', '大', '说', '着', '能', '出', '看', '和', '后', '你', '就', '面', '也', '可', '现', '没', '都', '她', '对', '但', '过', '星', '？', '下', '太', '子']\n",
      "Example of characters (bot): ['贷', '茹', '豹', '彷', '徨', '缥', '缈', '茗', '荑', '宛', '凰', '旬', '捺', '狐', '猴', '迭', '赦', '朱', '茧', '睥', '睨', '伫', '氤', '氲', '▽', '◇', '霄', '谚', '嗫', '嚅', '宸', '谕', '鸢', '踌', '躇', '匾', '炒', '隘', '齑', '酬', '敝', '帚', '诟', '佬', '吭', '琢', '裆', '怂', '恿', '@']\n"
     ]
    }
   ],
   "source": [
    "import torch\n",
    "import numpy as np\n",
    "\n",
    "from collections import Counter\n",
    "\n",
    "# Create vocabulary of unique characters\n",
    "char_counts = Counter(merged_text)\n",
    "chars = sorted(char_counts.keys(), key=char_counts.get, reverse=True)\n",
    "vocab_size = len(chars)\n",
    "\n",
    "print(\"Unique chars found:\", vocab_size)\n",
    "print(\"Example of characters (top):\", chars[:50])\n",
    "print(\"Example of characters (bot):\", chars[-50:])\n",
    "\n",
    "# Create mapping from character to index (and reverse)\n",
    "_char2idx = {ch: i for i, ch in enumerate(chars)}\n",
    "_idx2char = {i: ch for ch, i in _char2idx.items()}\n",
    "\n",
    "# Add special characters\n",
    "for special_token in [\"<|UNK|>\"]:\n",
    "    k = len(_char2idx)\n",
    "    _char2idx[special_token] = k\n",
    "    _idx2char[k] = special_token\n",
    "\n",
    "# Utility functions\n",
    "def char2idx(ch):\n",
    "    return [_char2idx.get(c, \"<|UNK|>\") for c in ch]\n",
    "def idx2char(idx):\n",
    "    if isinstance(idx, torch.Tensor):\n",
    "        return idx2char(idx.detach().cpu().numpy())\n",
    "    if isinstance(idx, np.ndarray):\n",
    "        return idx2char(idx.tolist())\n",
    "    if isinstance(idx, int):\n",
    "        return _idx2char.get(idx, \"<|UNK|>\")\n",
    "    return [idx2char(i) for i in idx]\n"
   ]
  },
  {
   "cell_type": "code",
   "execution_count": 25,
   "id": "6e1f122d-421a-4475-bb1b-722021af45da",
   "metadata": {
    "tags": []
   },
   "outputs": [
    {
     "name": "stdout",
     "output_type": "stream",
     "text": [
      "data_tensor shape: torch.Size([1017810])\n"
     ]
    }
   ],
   "source": [
    "# Convert all text to indices\n",
    "data_as_indices = char2idx(merged_text)\n",
    "data_tensor = torch.tensor(data_as_indices, dtype=torch.long)\n",
    "print(\"data_tensor shape:\", data_tensor.shape)"
   ]
  },
  {
   "cell_type": "code",
   "execution_count": 26,
   "id": "9919b29e-300d-4cbe-80e7-de5581ccc072",
   "metadata": {
    "tags": []
   },
   "outputs": [
    {
     "name": "stdout",
     "output_type": "stream",
     "text": [
      "Dataset size: 10177\n",
      "Example X (indices): tensor([   5,   58,   54, 1777,   17,  178,  347,  688,  300,  458])\n",
      "Example Y (index): tensor([  58,   54, 1777,   17,  178,  347,  688,  300,  458, 1371])\n",
      "Example X (decoded): \" 三体（中国科幻基石\"\n",
      "Example Y (decoded): \"三体（中国科幻基石丛\"\n"
     ]
    }
   ],
   "source": [
    "from torch.utils.data import Dataset, DataLoader\n",
    "\n",
    "class CharDataset(Dataset):\n",
    "    def __init__(self, data_tensor, seq_length):\n",
    "        self.data = data_tensor\n",
    "        self.seq_length = seq_length\n",
    "\n",
    "    def __len__(self):\n",
    "        # We can form this many sequences (minus 1 for the target)\n",
    "        return len(self.data) // self.seq_length - 1\n",
    "\n",
    "    def __getitem__(self, idx):\n",
    "        start = idx * self.seq_length\n",
    "        x_seq = self.data[start : start + self.seq_length]\n",
    "        # Targets are the subsequent seq_length characters\n",
    "        y_seq = self.data[start+1 : start + self.seq_length + 1]\n",
    "        return x_seq, y_seq\n",
    "\n",
    "seq_length = 100\n",
    "dataset = CharDataset(data_tensor, seq_length=seq_length)\n",
    "print(\"Dataset size:\", len(dataset))\n",
    "\n",
    "# For demonstration, let's get one example\n",
    "example_x, example_y = dataset[0]\n",
    "print(\"Example X (indices):\", example_x[:10])\n",
    "print(\"Example Y (index):\", example_y[:10])\n",
    "print(f\"Example X (decoded): \\\"{''.join(idx2char(example_x[:10]))}\\\"\")\n",
    "print(f\"Example Y (decoded): \\\"{''.join(idx2char(example_y[:10]))}\\\"\")\n"
   ]
  },
  {
   "cell_type": "code",
   "execution_count": 27,
   "id": "0d47146d-36df-4553-8748-03b7717ea127",
   "metadata": {
    "tags": []
   },
   "outputs": [],
   "source": [
    "batch_size = 300\n",
    "\n",
    "# def batch_second(batch):\n",
    "#     x, y = list(zip(*batch))\n",
    "#     x = torch.stack(x, 1)\n",
    "#     y = torch.stack(y, 1)\n",
    "\n",
    "#     return x, y\n",
    "\n",
    "dataloader = DataLoader(dataset, batch_size=batch_size, shuffle=True, drop_last=True, pin_memory=True, collate_fn=None)"
   ]
  },
  {
   "cell_type": "code",
   "execution_count": 28,
   "id": "13163647-8f5c-4907-a47a-ffc3b511783c",
   "metadata": {
    "tags": []
   },
   "outputs": [],
   "source": [
    "class CausalTransformerDecoder(nn.Module):\n",
    "    def __init__(self, vocab_size, d_model=128, num_heads=4, num_layers=2, max_len=100):\n",
    "        super().__init__()\n",
    "        self.embedding = nn.Embedding(vocab_size, d_model)\n",
    "        self.pos_encoding = PositionalEncoding(d_model, max_len)\n",
    "\n",
    "        self.layers = nn.ModuleList([\n",
    "            DecoderBlock(d_model, num_heads) for _ in range(num_layers)\n",
    "        ])\n",
    "        self.fc_out = nn.Linear(d_model, vocab_size)\n",
    "\n",
    "    def forward(self, x):\n",
    "        \"\"\"\n",
    "        x: (batch_size, seq_length) of token indices\n",
    "        returns: (batch_size, seq_length, vocab_size)\n",
    "        \"\"\"\n",
    "        B, T = x.size()\n",
    "        # Embeddings + positions\n",
    "        embed = self.embedding(x)  # (B, T, d_model)\n",
    "        embed = self.pos_encoding(embed)  # add positional info\n",
    "\n",
    "        # Generate causal mask (for each batch, we broadcast the same mask)\n",
    "        mask = generate_causal_mask(T).to(x.device)  # (T, T)\n",
    "\n",
    "        out = embed\n",
    "        for layer in self.layers:\n",
    "            out = layer(out, mask=mask)\n",
    "\n",
    "        # Predict next char at each position\n",
    "        logits = self.fc_out(out)  # (B, T, vocab_size)\n",
    "        return logits"
   ]
  },
  {
   "cell_type": "code",
   "execution_count": 29,
   "id": "035c2f8c-0f7d-45a6-afde-2e946d1f1471",
   "metadata": {
    "tags": []
   },
   "outputs": [
    {
     "name": "stdout",
     "output_type": "stream",
     "text": [
      "Using device: cpu\n"
     ]
    }
   ],
   "source": [
    "import torch.optim as optim\n",
    "\n",
    "device = 'cuda' if torch.cuda.is_available() else 'cpu'\n",
    "print(\"Using device:\", device)\n",
    "\n",
    "model = CausalTransformerDecoder(vocab_size, d_model=512, num_heads=4, num_layers=3, max_len=100)\n",
    "model.to(device)\n",
    "\n",
    "criterion = nn.CrossEntropyLoss()\n",
    "optimizer = optim.Adam(model.parameters(), lr=0.001)\n",
    "scheduler = optim.lr_scheduler.ReduceLROnPlateau(optimizer, mode=\"min\", factor=0.8, patience=5)  # Reduce learning rate by half\n",
    "\n",
    "history = []"
   ]
  },
  {
   "cell_type": "code",
   "execution_count": 30,
   "id": "1b427d55-836e-404b-a2ca-cd0d90569f08",
   "metadata": {
    "tags": []
   },
   "outputs": [
    {
     "name": "stdout",
     "output_type": "stream",
     "text": [
      "Number of parameters: 13,323,452\n"
     ]
    }
   ],
   "source": [
    "total_params = 0\n",
    "for param in model.parameters():\n",
    "    total_params += param.numel()\n",
    "\n",
    "print(f\"Number of parameters: {total_params:,}\")"
   ]
  },
  {
   "cell_type": "code",
   "execution_count": null,
   "id": "55a7842b-e741-4a5b-923d-9e4d6ed42730",
   "metadata": {
    "tags": []
   },
   "outputs": [],
   "source": [
    "%%time\n",
    "\n",
    "MODEL_SAVE_PATH = os.path.join(REPOPATH, \"models\")\n",
    "os.makedirs(MODEL_SAVE_PATH, exist_ok=True)\n",
    "\n",
    "num_epochs = 10\n",
    "model.train()\n",
    "\n",
    "history = []\n",
    "best_loss = float(\"inf\")\n",
    "\n",
    "for epoch in range(num_epochs):\n",
    "    total_loss = 0.0\n",
    "    for x_seq, y_seq in dataloader:\n",
    "        x_seq, y_seq = x_seq.to(device), y_seq.to(device)\n",
    "\n",
    "        # Reset gradients\n",
    "        optimizer.zero_grad()\n",
    "\n",
    "        # Forward pass\n",
    "        logits = model(x_seq)\n",
    "\n",
    "        # Reshape logits and targets for cross-entropy\n",
    "        # We want CE across all time steps\n",
    "        logits_reshaped = logits.view(-1, vocab_size)   # (batch_size*seq_length, vocab_size)\n",
    "        targets_reshaped = y_seq.view(-1)               # (batch_size*seq_length,)\n",
    "\n",
    "        loss = criterion(logits_reshaped, targets_reshaped)\n",
    "        loss.backward()\n",
    "\n",
    "        optimizer.step()\n",
    "\n",
    "        total_loss += loss.item()\n",
    "\n",
    "    avg_loss = total_loss / len(dataloader)\n",
    "    if epoch == 0 or (epoch + 1) % 10 == 0 or epoch + 1 == num_epochs:\n",
    "        print(f\"Epoch {epoch+1}/{num_epochs}, Loss: {avg_loss:.4f}, Correct prediction: {math.exp(-avg_loss):.1%}\")\n",
    "    scheduler.step(avg_loss)\n",
    "    history.append(avg_loss)\n",
    "\n",
    "model_name = f\"checkpoint_cn_xformer.pt\"\n",
    "model_path = os.path.join(MODEL_SAVE_PATH, model_name)\n",
    "torch.save({\n",
    "    \"last_epoch\": epoch,\n",
    "    \"last_loss\": avg_loss,\n",
    "    \"history\": history,\n",
    "    \"model_state_dict\": model.state_dict(),\n",
    "    \"optimizer_state_dict\": optimizer.state_dict(),\n",
    "    \"scheduler_state_dict\": scheduler.state_dict(),\n",
    "}, model_path)\n"
   ]
  },
  {
   "cell_type": "code",
   "execution_count": null,
   "id": "2055c08b-9ec2-4bc6-923d-557dd500f8e9",
   "metadata": {
    "tags": []
   },
   "outputs": [],
   "source": [
    "@torch.no_grad()\n",
    "def generate_text(model, start_str=\"ROMEO:\", max_new_tokens=200, temperature=1.0):\n",
    "    model.eval()\n",
    "    # Convert start_str to indices\n",
    "    # input_ids = torch.tensor([char2idx(ch) for ch in start_str], dtype=torch.long).unsqueeze(0).to(device)\n",
    "    input_ids = torch.tensor(char2idx(start_str), dtype=torch.long).unsqueeze(0).to(device)\n",
    "    # return model(input_ids)\n",
    "    # We'll generate token by token\n",
    "    for _ in range(max_new_tokens):\n",
    "        # Get logits for the last token\n",
    "        inp = input_ids[:, -98:]\n",
    "        logits = model(inp)  # shape: (1, seq_len, vocab_size)\n",
    "        logits = logits[:, -1, :]  # only the last time step\n",
    "        logits = logits / temperature\n",
    "\n",
    "        probs = torch.softmax(logits, dim=-1)\n",
    "        next_id = torch.multinomial(probs, 1).item()\n",
    "\n",
    "        # Append to sequence\n",
    "        input_ids = torch.cat([input_ids, torch.tensor([[next_id]], device=device)], dim=1)\n",
    "        \n",
    "\n",
    "    # Convert back to characters\n",
    "    generated_seq = [idx2char(t.item()) for t in input_ids[0]]\n",
    "    return \"\".join(generated_seq)\n",
    "\n",
    "sample_output = generate_text(model, start_str=\"ROMEO:\", max_new_tokens=300, temperature=0.8)\n",
    "\n"
   ]
  },
  {
   "cell_type": "code",
   "execution_count": null,
   "id": "b71f95bd-6dc0-469c-b0f2-86432b6ed994",
   "metadata": {
    "tags": []
   },
   "outputs": [],
   "source": [
    "print(\"Generated:\\n\", sample_output)"
   ]
  },
  {
   "cell_type": "code",
   "execution_count": null,
   "id": "bad284e6-0701-41c9-a520-4334b66c0c6c",
   "metadata": {},
   "outputs": [],
   "source": []
  }
 ],
 "metadata": {
  "accelerator": "GPU",
  "colab": {
   "gpuType": "T4",
   "provenance": []
  },
  "kernelspec": {
   "display_name": "Python 3 (ipykernel)",
   "language": "python",
   "name": "python3"
  },
  "language_info": {
   "codemirror_mode": {
    "name": "ipython",
    "version": 3
   },
   "file_extension": ".py",
   "mimetype": "text/x-python",
   "name": "python",
   "nbconvert_exporter": "python",
   "pygments_lexer": "ipython3",
   "version": "3.11.2"
  }
 },
 "nbformat": 4,
 "nbformat_minor": 5
}
